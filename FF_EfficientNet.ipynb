{
 "cells": [
  {
   "cell_type": "markdown",
   "metadata": {
    "id": "Yk08ZeOQ5umS"
   },
   "source": [
    "## Implementation of The Pre-Trained Efficientnet model development and fine tuning\n",
    "\n",
    "In these Notebook , I load the EfficientnetB7 model and fine tune it as below \n",
    "\n",
    "1. **Optimizers** - I will use ; 1. `SGD`,2. `RMSprop`,3. `Adam`,4. `Adagrad`,5. `Adadelta` and determine which One to use for the new model\n",
    "2. **Number of epochs** - `1 2 5 10` respective training\n",
    "3. **Batch size** - Optimum Batch size ; `8, 16`. \n",
    "4. **Dropout** - we will optimise the dropout of the model, values `0.5, 0.6, 0.7, 0.8, 0.9`\n",
    "\n",
    "> **Section one:** Common Function Creation and preloaded model with parameteres : **Batch size** `8`, **Optimizer** `Adam`, **Number of epochs** `4`, **dropout value** `0.5`"
   ]
  },
  {
   "cell_type": "code",
   "execution_count": 1,
   "metadata": {
    "id": "os8IHAlx5umW",
    "tags": []
   },
   "outputs": [
    {
     "name": "stderr",
     "output_type": "stream",
     "text": [
      "2023-04-15 15:28:39.156783: I tensorflow/tsl/cuda/cudart_stub.cc:28] Could not find cuda drivers on your machine, GPU will not be used.\n",
      "2023-04-15 15:28:39.196020: I tensorflow/tsl/cuda/cudart_stub.cc:28] Could not find cuda drivers on your machine, GPU will not be used.\n",
      "2023-04-15 15:28:39.196573: I tensorflow/core/platform/cpu_feature_guard.cc:182] This TensorFlow binary is optimized to use available CPU instructions in performance-critical operations.\n",
      "To enable the following instructions: AVX2 FMA, in other operations, rebuild TensorFlow with the appropriate compiler flags.\n",
      "2023-04-15 15:28:39.896030: W tensorflow/compiler/tf2tensorrt/utils/py_utils.cc:38] TF-TRT Warning: Could not find TensorRT\n"
     ]
    }
   ],
   "source": [
    "#Importing the Libraries\n",
    "import pandas as pd\n",
    "import numpy as np\n",
    "import os\n",
    "import math\n",
    "import tensorflow as tf\n",
    "import keras\n",
    "import matplotlib.pyplot as plt\n",
    "from tensorflow.keras.layers import Dense, GlobalAveragePooling2D\n",
    "import efficientnet.keras as efn \n",
    "from tensorflow.keras.preprocessing import image\n",
    "from tensorflow.keras.applications.vgg16 import preprocess_input\n",
    "from tensorflow.keras.preprocessing.image import ImageDataGenerator\n",
    "from tensorflow.keras.models import Model\n",
    "from tensorflow.keras.optimizers import Adam\n",
    "from tensorflow.keras.layers import Input\n",
    "from sklearn.metrics import confusion_matrix\n",
    "from tqdm import tqdm_notebook\n",
    "import time\n",
    "import tqdm.gui as tqdm\n",
    "import tqdm.notebook as tqdm"
   ]
  },
  {
   "cell_type": "code",
   "execution_count": null,
   "metadata": {
    "id": "1ojACAvw5umZ",
    "tags": []
   },
   "outputs": [],
   "source": [
    "#Data Preprocessing \n",
    "\n",
    "def get_data_generator(train_data_path, \\\n",
    "                       val_data_path, \\\n",
    "                       targetsize, \\\n",
    "                       classmode, \\\n",
    "                       batchsize):\n",
    "    \"\"\"\n",
    "    This function is a data generator function for train, validation, and testing data\n",
    "    Inputs\n",
    "        train_data_path   : train data path for the dataset \n",
    "        val_data_path     : validation data path for the dataset\n",
    "        targetsize        : target size for the generator to resize all images to, (224,224)\n",
    "        classmode         : class mode, 'categorical'\n",
    "        batchsize         : batch size\n",
    "    Outputs\n",
    "        train_generator   : generated train data\n",
    "        val_generator     : generated validation data\n",
    "    \n",
    "    \"\"\"\n",
    "    train_datagen=ImageDataGenerator(preprocessing_function=preprocess_input)\n",
    "    val_datagen = ImageDataGenerator(preprocessing_function=preprocess_input)\n",
    "    \n",
    "    \n",
    "    train_generator=train_datagen.flow_from_directory(train_data_path, # this is where you specify the path to the main data folder\n",
    "                                                 target_size=targetsize,\n",
    "                                                 color_mode='rgb',\n",
    "                                                 batch_size=batchsize,\n",
    "                                                 class_mode=classmode,\n",
    "                                                 shuffle=True)\n",
    "    \n",
    "    val_generator=val_datagen.flow_from_directory(val_data_path, # this is where you specify the path to the main data folder\n",
    "                                                 target_size=targetsize,\n",
    "                                                 color_mode='rgb',\n",
    "                                                 batch_size=batchsize,\n",
    "                                                 class_mode=classmode,)\n",
    " \n",
    "    return train_generator,val_generator  \n",
    "    \n",
    "\n",
    "def train_evaluate_the_model(train_generator, \\\n",
    "                             val_generator, \\\n",
    "                             optimizer, \\\n",
    "                             epochs, \\\n",
    "                             dropout_value, \\\n",
    "                             TheModel):\n",
    "    '''\n",
    "    train the model, do predictions, and do evaluation and return the accuracy of the model\n",
    "    Inputs\n",
    "        train_generator : generated train data\n",
    "        val_generator   : generated validation data\n",
    "        optimizer       : the optimizer method used to compile the model\n",
    "        epochs          : the epochs of the model use to fit the model\n",
    "        dropout_value   : the dropout value\n",
    "        TheModel        : The pretrained model loaded,\n",
    "    Outputs\n",
    "        accuracy        : The accuracy of the model\n",
    "    '''\n",
    "    # load pretrained model and add layers on top of the model\n",
    "    x = TheModel.output\n",
    "    x = tf.keras.layers.Flatten()(x)\n",
    "    x = Dense(1024, activation=\"relu\")(x)\n",
    "    x = Dense(1024, activation=\"relu\")(x)\n",
    "    x = Dense(512, activation=\"relu\")(x)\n",
    "    x = tf.keras.layers.Dropout(dropout_value)(x)\n",
    "    predictions = Dense(4, activation=\"sigmoid\")(x)\n",
    "    model = Model(inputs = TheModel.input, outputs = predictions)\n",
    "    \n",
    "    # freeze base layers for training\n",
    "    for layer in TheModel.layers:\n",
    "        layer.trainable = False\n",
    "    \n",
    "    # compile the model\n",
    "    model.compile(optimizer=optimizer,\n",
    "              loss='categorical_crossentropy',\n",
    "              metrics=['accuracy'])\n",
    "    step_size_train=train_generator.n//train_generator.batch_size\n",
    "    # fit the model\n",
    "    r = model.fit_generator(generator=train_generator,\n",
    "                        validation_data=val_generator,\n",
    "                        steps_per_epoch=step_size_train,\n",
    "                        epochs=epochs)\n",
    "    # valuate the model\n",
    "    scores = model.evaluate(val_generator)\n",
    "    accuracy = scores[1]*100\n",
    "    \n",
    "    return accuracy, model"
   ]
  },
  {
   "cell_type": "code",
   "execution_count": 3,
   "metadata": {
    "colab": {
     "base_uri": "https://localhost:8080/"
    },
    "id": "fsVPbeCM6orW",
    "outputId": "77cb11f9-3a32-4d07-dfca-2940a2af2f0a",
    "tags": []
   },
   "outputs": [
    {
     "data": {
      "text/plain": [
       "'\\nimport zipfile\\nfrom google.colab import drive\\n\\ndrive.mount(\\'/content/drive/\\')\\n\\nzip_ref = zipfile.ZipFile(\"/content/drive/MyDrive/Datasets.zip\", \\'r\\')\\nzip_ref.extractall(\"\")\\nzip_ref.close()\\n'"
      ]
     },
     "execution_count": 3,
     "metadata": {},
     "output_type": "execute_result"
    }
   ],
   "source": [
    "'''\n",
    "import zipfile\n",
    "from google.colab import drive\n",
    "\n",
    "drive.mount('/content/drive/')\n",
    "\n",
    "zip_ref = zipfile.ZipFile(\"/content/drive/MyDrive/Datasets.zip\", 'r')\n",
    "zip_ref.extractall(\"\")\n",
    "zip_ref.close()\n",
    "'''"
   ]
  },
  {
   "cell_type": "code",
   "execution_count": 4,
   "metadata": {
    "colab": {
     "base_uri": "https://localhost:8080/"
    },
    "id": "sFUBn5KK5umb",
    "outputId": "ec9b1681-3e78-4b4f-eb5e-188300feb42a",
    "tags": []
   },
   "outputs": [
    {
     "data": {
      "text/plain": [
       "dict_items([('Testing', 4), ('Training', 4), ('Validation', 4)])"
      ]
     },
     "execution_count": 4,
     "metadata": {},
     "output_type": "execute_result"
    }
   ],
   "source": [
    "ROOT_DIR = \"Datasets\"\n",
    "number_of_images = {}\n",
    "\n",
    "#This code lists the Amounts of Healthy and Non-healthy Brain Tumor Datasets\n",
    "for dir in os.listdir(ROOT_DIR):\n",
    "  number_of_images[dir] = len(os.listdir(os.path.join(ROOT_DIR,dir)))\n",
    "\n",
    "number_of_images.items()\n"
   ]
  },
  {
   "cell_type": "code",
   "execution_count": 5,
   "metadata": {
    "colab": {
     "base_uri": "https://localhost:8080/"
    },
    "id": "Xloh34_A5ume",
    "outputId": "ad2882c6-d856-408b-aa03-1637a0f52a7f",
    "tags": []
   },
   "outputs": [
    {
     "name": "stdout",
     "output_type": "stream",
     "text": [
      "Found 2870 images belonging to 4 classes.\n",
      "Found 7023 images belonging to 4 classes.\n"
     ]
    }
   ],
   "source": [
    "train_datagen=ImageDataGenerator(preprocessing_function=preprocess_input) \n",
    "val_datagen = ImageDataGenerator(preprocessing_function=preprocess_input)\n",
    "\n",
    "'''\n",
    "Initial and constant parameters for the model\n",
    "initial parameters\n",
    "       batch_size    : the initial batch size we will create our base model with\n",
    "Constant parameters\n",
    "       target_size   : Constant image target size for the whole notebook which is (224,224)\n",
    "       class_mode    : class mode we will use for the whole notebook, which is 'categorical'\n",
    "'''\n",
    "# constant parameters\n",
    "targetsize_constant = (224,224)\n",
    "classmode_constant = 'categorical'\n",
    "\n",
    "# initial parameters\n",
    "batchsize_initial = 8\n",
    "epochs_initial = 4\n",
    "dropout_value_initial = 0.5\n",
    "optimizer_initial = 'Adam'\n",
    "\n",
    "# Data paths\n",
    "train_dataset_path = 'Datasets/Training/'\n",
    "validation_dataset_path = 'Datasets/Validation/'\n",
    "test_dataset_path = 'Datasets/Testing/'\n",
    "\n",
    "\n",
    "train_generator_initial = train_datagen.flow_from_directory(train_dataset_path, # this is where you specify the path to the main data folder\n",
    "                                                 target_size=targetsize_constant,\n",
    "                                                 color_mode='rgb',\n",
    "                                                 batch_size=batchsize_initial,\n",
    "                                                 class_mode=classmode_constant,\n",
    "                                                 shuffle=True)\n",
    "val_generator_initial = val_datagen.flow_from_directory(validation_dataset_path, # this is where you specify the path to the main data folder\n",
    "                                                 target_size=targetsize_constant,\n",
    "                                                 color_mode='rgb',\n",
    "                                                 batch_size=batchsize_initial,\n",
    "                                                 class_mode=classmode_constant,\n",
    "                                                 shuffle=True)\n"
   ]
  },
  {
   "cell_type": "code",
   "execution_count": 6,
   "metadata": {
    "colab": {
     "base_uri": "https://localhost:8080/"
    },
    "id": "iIg-K5j05umg",
    "outputId": "42e9c3bf-b2d5-4f01-f3d3-8d2ddae1d376",
    "tags": []
   },
   "outputs": [
    {
     "data": {
      "text/plain": [
       "{'glioma_tumor': 0, 'meningioma_tumor': 1, 'no_tumor': 2, 'pituitary_tumor': 3}"
      ]
     },
     "execution_count": 6,
     "metadata": {},
     "output_type": "execute_result"
    }
   ],
   "source": [
    "# display classes found in the data\n",
    "train_generator_initial.class_indices"
   ]
  },
  {
   "cell_type": "code",
   "execution_count": 7,
   "metadata": {
    "id": "tVqetWjB5umi",
    "tags": []
   },
   "outputs": [],
   "source": [
    "#Importing the EffnetB7 model\n",
    "from tensorflow.keras.applications import EfficientNetB7"
   ]
  },
  {
   "cell_type": "code",
   "execution_count": 8,
   "metadata": {
    "colab": {
     "base_uri": "https://localhost:8080/"
    },
    "id": "vg28OPbF5uml",
    "outputId": "f029f951-5163-4a03-c0d3-7a9eb2564a52",
    "tags": []
   },
   "outputs": [
    {
     "name": "stderr",
     "output_type": "stream",
     "text": [
      "2023-04-15 13:02:56.255365: I tensorflow/compiler/xla/stream_executor/cuda/cuda_gpu_executor.cc:996] successful NUMA node read from SysFS had negative value (-1), but there must be at least one NUMA node, so returning NUMA node zero. See more at https://github.com/torvalds/linux/blob/v6.0/Documentation/ABI/testing/sysfs-bus-pci#L344-L355\n",
      "2023-04-15 13:02:56.255917: W tensorflow/core/common_runtime/gpu/gpu_device.cc:1956] Cannot dlopen some GPU libraries. Please make sure the missing libraries mentioned above are installed properly if you would like to use GPU. Follow the guide at https://www.tensorflow.org/install/gpu for how to download and setup the required libraries for your platform.\n",
      "Skipping registering GPU devices...\n"
     ]
    }
   ],
   "source": [
    "image_size = [224,224] # choose image size\n",
    "# import the base model\n",
    "efnB7 = tf.keras.applications.efficientnet.EfficientNetB7(input_shape= image_size+[3],weights='imagenet',include_top=False)\n",
    "\n",
    "# storing the base model in the kernel for later use to avoid loading many times\n",
    "efnB7_basemodel = efnB7\n"
   ]
  },
  {
   "cell_type": "code",
   "execution_count": 9,
   "metadata": {
    "id": "9vfild9I5umn",
    "tags": []
   },
   "outputs": [],
   "source": [
    "#Adding the Layers to the Model\n",
    "# initial parameter value\n",
    "\n",
    "dropout_value_initial = 0.1\n",
    "\n",
    "# add layers\n",
    "x = efnB7.output\n",
    "x = tf.keras.layers.Flatten()(x)\n",
    "x = Dense(1024, activation=\"relu\")(x)\n",
    "x = Dense(1024, activation=\"relu\")(x)\n",
    "x = Dense(512, activation=\"relu\")(x)\n",
    "x = tf.keras.layers.Dropout(dropout_value_initial)(x)\n",
    "predictions = Dense(4, activation=\"sigmoid\")(x)\n",
    "model = Model(inputs = efnB7.input, outputs = predictions)# initial parameter value\n",
    "dropout_value_initial = 0.1\n",
    "\n",
    "# add layers\n",
    "x = efnB7.output\n",
    "x = tf.keras.layers.Flatten()(x)\n",
    "x = Dense(1024, activation=\"relu\")(x)\n",
    "x = Dense(1024, activation=\"relu\")(x)\n",
    "x = Dense(512, activation=\"relu\")(x)\n",
    "x = tf.keras.layers.Dropout(dropout_value_initial)(x)\n",
    "predictions = Dense(4, activation=\"sigmoid\")(x)\n",
    "model = Model(inputs = efnB7.input, outputs = predictions)"
   ]
  },
  {
   "cell_type": "code",
   "execution_count": 10,
   "metadata": {
    "id": "sG2dw4OB5umo",
    "tags": []
   },
   "outputs": [],
   "source": [
    "#Model compilation\n",
    "# initial optimizer\n",
    "optimizer_initial = 'Adam'\n",
    "\n",
    "# compile the model\n",
    "model.compile(optimizer=optimizer_initial,\n",
    "              loss='categorical_crossentropy',\n",
    "              metrics=['accuracy'])"
   ]
  },
  {
   "cell_type": "code",
   "execution_count": 11,
   "metadata": {
    "colab": {
     "base_uri": "https://localhost:8080/"
    },
    "id": "cp8Tg2U05umq",
    "outputId": "e839e2ef-d858-4626-a302-0b6ed685488f",
    "tags": []
   },
   "outputs": [
    {
     "name": "stderr",
     "output_type": "stream",
     "text": [
      "/tmp/ipykernel_13211/14041588.py:8: UserWarning: `Model.fit_generator` is deprecated and will be removed in a future version. Please use `Model.fit`, which supports generators.\n",
      "  r = model.fit_generator(generator=train_generator_initial,\n",
      "2023-04-15 13:03:13.026042: I tensorflow/core/common_runtime/executor.cc:1197] [/device:CPU:0] (DEBUG INFO) Executor start aborting (this does not indicate an error and you can ignore this message): INVALID_ARGUMENT: You must feed a value for placeholder tensor 'Placeholder/_0' with dtype int32\n",
      "\t [[{{node Placeholder/_0}}]]\n"
     ]
    },
    {
     "name": "stdout",
     "output_type": "stream",
     "text": [
      "Epoch 1/4\n",
      "145/358 [===========>..................] - ETA: 25:48 - loss: 2.8959 - accuracy: 0.5595"
     ]
    },
    {
     "name": "stderr",
     "output_type": "stream",
     "text": [
      "2023-04-15 13:21:49.814917: W tensorflow/core/framework/op_kernel.cc:1818] UNKNOWN: FileNotFoundError: [Errno 2] No such file or directory: 'Datasets/Training/meningioma_tumor/m2 (151).jpg'\n",
      "Traceback (most recent call last):\n",
      "\n",
      "  File \"/home/misango/.local/lib/python3.10/site-packages/tensorflow/python/ops/script_ops.py\", line 267, in __call__\n",
      "    ret = func(*args)\n",
      "\n",
      "  File \"/home/misango/.local/lib/python3.10/site-packages/tensorflow/python/autograph/impl/api.py\", line 642, in wrapper\n",
      "    return func(*args, **kwargs)\n",
      "\n",
      "  File \"/home/misango/.local/lib/python3.10/site-packages/tensorflow/python/data/ops/from_generator_op.py\", line 198, in generator_py_func\n",
      "    values = next(generator_state.get_iterator(iterator_id))\n",
      "\n",
      "  File \"/home/misango/.local/lib/python3.10/site-packages/keras/engine/data_adapter.py\", line 902, in wrapped_generator\n",
      "    for data in generator_fn():\n",
      "\n",
      "  File \"/home/misango/.local/lib/python3.10/site-packages/keras/engine/data_adapter.py\", line 1049, in generator_fn\n",
      "    yield x[i]\n",
      "\n",
      "  File \"/home/misango/.local/lib/python3.10/site-packages/keras/preprocessing/image.py\", line 116, in __getitem__\n",
      "    return self._get_batches_of_transformed_samples(index_array)\n",
      "\n",
      "  File \"/home/misango/.local/lib/python3.10/site-packages/keras/preprocessing/image.py\", line 370, in _get_batches_of_transformed_samples\n",
      "    img = image_utils.load_img(\n",
      "\n",
      "  File \"/home/misango/.local/lib/python3.10/site-packages/keras/utils/image_utils.py\", line 422, in load_img\n",
      "    with open(path, \"rb\") as f:\n",
      "\n",
      "FileNotFoundError: [Errno 2] No such file or directory: 'Datasets/Training/meningioma_tumor/m2 (151).jpg'\n",
      "\n",
      "\n",
      "2023-04-15 13:21:49.814988: I tensorflow/core/common_runtime/executor.cc:1197] [/job:localhost/replica:0/task:0/device:CPU:0] (DEBUG INFO) Executor start aborting (this does not indicate an error and you can ignore this message): UNKNOWN: FileNotFoundError: [Errno 2] No such file or directory: 'Datasets/Training/meningioma_tumor/m2 (151).jpg'\n",
      "Traceback (most recent call last):\n",
      "\n",
      "  File \"/home/misango/.local/lib/python3.10/site-packages/tensorflow/python/ops/script_ops.py\", line 267, in __call__\n",
      "    ret = func(*args)\n",
      "\n",
      "  File \"/home/misango/.local/lib/python3.10/site-packages/tensorflow/python/autograph/impl/api.py\", line 642, in wrapper\n",
      "    return func(*args, **kwargs)\n",
      "\n",
      "  File \"/home/misango/.local/lib/python3.10/site-packages/tensorflow/python/data/ops/from_generator_op.py\", line 198, in generator_py_func\n",
      "    values = next(generator_state.get_iterator(iterator_id))\n",
      "\n",
      "  File \"/home/misango/.local/lib/python3.10/site-packages/keras/engine/data_adapter.py\", line 902, in wrapped_generator\n",
      "    for data in generator_fn():\n",
      "\n",
      "  File \"/home/misango/.local/lib/python3.10/site-packages/keras/engine/data_adapter.py\", line 1049, in generator_fn\n",
      "    yield x[i]\n",
      "\n",
      "  File \"/home/misango/.local/lib/python3.10/site-packages/keras/preprocessing/image.py\", line 116, in __getitem__\n",
      "    return self._get_batches_of_transformed_samples(index_array)\n",
      "\n",
      "  File \"/home/misango/.local/lib/python3.10/site-packages/keras/preprocessing/image.py\", line 370, in _get_batches_of_transformed_samples\n",
      "    img = image_utils.load_img(\n",
      "\n",
      "  File \"/home/misango/.local/lib/python3.10/site-packages/keras/utils/image_utils.py\", line 422, in load_img\n",
      "    with open(path, \"rb\") as f:\n",
      "\n",
      "FileNotFoundError: [Errno 2] No such file or directory: 'Datasets/Training/meningioma_tumor/m2 (151).jpg'\n",
      "\n",
      "\n",
      "\t [[{{node PyFunc}}]]\n"
     ]
    },
    {
     "name": "stdout",
     "output_type": "stream",
     "text": [
      "146/358 [===========>..................] - ETA: 25:41 - loss: 2.8885 - accuracy: 0.5591"
     ]
    },
    {
     "name": "stderr",
     "output_type": "stream",
     "text": [
      "2023-04-15 13:21:56.717023: I tensorflow/core/common_runtime/executor.cc:1197] [/job:localhost/replica:0/task:0/device:CPU:0] (DEBUG INFO) Executor start aborting (this does not indicate an error and you can ignore this message): UNKNOWN: FileNotFoundError: [Errno 2] No such file or directory: 'Datasets/Training/meningioma_tumor/m2 (151).jpg'\n",
      "Traceback (most recent call last):\n",
      "\n",
      "  File \"/home/misango/.local/lib/python3.10/site-packages/tensorflow/python/ops/script_ops.py\", line 267, in __call__\n",
      "    ret = func(*args)\n",
      "\n",
      "  File \"/home/misango/.local/lib/python3.10/site-packages/tensorflow/python/autograph/impl/api.py\", line 642, in wrapper\n",
      "    return func(*args, **kwargs)\n",
      "\n",
      "  File \"/home/misango/.local/lib/python3.10/site-packages/tensorflow/python/data/ops/from_generator_op.py\", line 198, in generator_py_func\n",
      "    values = next(generator_state.get_iterator(iterator_id))\n",
      "\n",
      "  File \"/home/misango/.local/lib/python3.10/site-packages/keras/engine/data_adapter.py\", line 902, in wrapped_generator\n",
      "    for data in generator_fn():\n",
      "\n",
      "  File \"/home/misango/.local/lib/python3.10/site-packages/keras/engine/data_adapter.py\", line 1049, in generator_fn\n",
      "    yield x[i]\n",
      "\n",
      "  File \"/home/misango/.local/lib/python3.10/site-packages/keras/preprocessing/image.py\", line 116, in __getitem__\n",
      "    return self._get_batches_of_transformed_samples(index_array)\n",
      "\n",
      "  File \"/home/misango/.local/lib/python3.10/site-packages/keras/preprocessing/image.py\", line 370, in _get_batches_of_transformed_samples\n",
      "    img = image_utils.load_img(\n",
      "\n",
      "  File \"/home/misango/.local/lib/python3.10/site-packages/keras/utils/image_utils.py\", line 422, in load_img\n",
      "    with open(path, \"rb\") as f:\n",
      "\n",
      "FileNotFoundError: [Errno 2] No such file or directory: 'Datasets/Training/meningioma_tumor/m2 (151).jpg'\n",
      "\n",
      "\n",
      "\t [[{{node PyFunc}}]]\n",
      "\t [[IteratorGetNext]]\n"
     ]
    },
    {
     "ename": "UnknownError",
     "evalue": "Graph execution error:\n\nFileNotFoundError: [Errno 2] No such file or directory: 'Datasets/Training/meningioma_tumor/m2 (151).jpg'\nTraceback (most recent call last):\n\n  File \"/home/misango/.local/lib/python3.10/site-packages/tensorflow/python/ops/script_ops.py\", line 267, in __call__\n    ret = func(*args)\n\n  File \"/home/misango/.local/lib/python3.10/site-packages/tensorflow/python/autograph/impl/api.py\", line 642, in wrapper\n    return func(*args, **kwargs)\n\n  File \"/home/misango/.local/lib/python3.10/site-packages/tensorflow/python/data/ops/from_generator_op.py\", line 198, in generator_py_func\n    values = next(generator_state.get_iterator(iterator_id))\n\n  File \"/home/misango/.local/lib/python3.10/site-packages/keras/engine/data_adapter.py\", line 902, in wrapped_generator\n    for data in generator_fn():\n\n  File \"/home/misango/.local/lib/python3.10/site-packages/keras/engine/data_adapter.py\", line 1049, in generator_fn\n    yield x[i]\n\n  File \"/home/misango/.local/lib/python3.10/site-packages/keras/preprocessing/image.py\", line 116, in __getitem__\n    return self._get_batches_of_transformed_samples(index_array)\n\n  File \"/home/misango/.local/lib/python3.10/site-packages/keras/preprocessing/image.py\", line 370, in _get_batches_of_transformed_samples\n    img = image_utils.load_img(\n\n  File \"/home/misango/.local/lib/python3.10/site-packages/keras/utils/image_utils.py\", line 422, in load_img\n    with open(path, \"rb\") as f:\n\nFileNotFoundError: [Errno 2] No such file or directory: 'Datasets/Training/meningioma_tumor/m2 (151).jpg'\n\n\n\t [[{{node PyFunc}}]]\n\t [[IteratorGetNext]] [Op:__inference_train_function_109595]",
     "output_type": "error",
     "traceback": [
      "\u001b[0;31m---------------------------------------------------------------------------\u001b[0m",
      "\u001b[0;31mUnknownError\u001b[0m                              Traceback (most recent call last)",
      "Cell \u001b[0;32mIn[11], line 8\u001b[0m\n\u001b[1;32m      6\u001b[0m tic \u001b[39m=\u001b[39m time\u001b[39m.\u001b[39mtime()\n\u001b[1;32m      7\u001b[0m \u001b[39m# fit the model\u001b[39;00m\n\u001b[0;32m----> 8\u001b[0m r \u001b[39m=\u001b[39m model\u001b[39m.\u001b[39;49mfit_generator(generator\u001b[39m=\u001b[39;49mtrain_generator_initial,\n\u001b[1;32m      9\u001b[0m                         validation_data\u001b[39m=\u001b[39;49mval_generator_initial,\n\u001b[1;32m     10\u001b[0m                         steps_per_epoch\u001b[39m=\u001b[39;49mstep_size_train_initial,\n\u001b[1;32m     11\u001b[0m                         epochs\u001b[39m=\u001b[39;49mepochs_initial)\n\u001b[1;32m     13\u001b[0m toc \u001b[39m=\u001b[39m time\u001b[39m.\u001b[39mtime()\n\u001b[1;32m     14\u001b[0m \u001b[39mprint\u001b[39m(\u001b[39m\"\u001b[39m\u001b[39mMinutes taken = \u001b[39m\u001b[39m\"\u001b[39m \u001b[39m+\u001b[39m \u001b[39mstr\u001b[39m((toc\u001b[39m-\u001b[39mtic)\u001b[39m/\u001b[39m\u001b[39m60.0\u001b[39m))\n",
      "File \u001b[0;32m~/.local/lib/python3.10/site-packages/keras/engine/training.py:2636\u001b[0m, in \u001b[0;36mModel.fit_generator\u001b[0;34m(self, generator, steps_per_epoch, epochs, verbose, callbacks, validation_data, validation_steps, validation_freq, class_weight, max_queue_size, workers, use_multiprocessing, shuffle, initial_epoch)\u001b[0m\n\u001b[1;32m   2624\u001b[0m \u001b[39m\u001b[39m\u001b[39m\"\"\"Fits the model on data yielded batch-by-batch by a Python generator.\u001b[39;00m\n\u001b[1;32m   2625\u001b[0m \n\u001b[1;32m   2626\u001b[0m \u001b[39mDEPRECATED:\u001b[39;00m\n\u001b[1;32m   2627\u001b[0m \u001b[39m  `Model.fit` now supports generators, so there is no longer any need to\u001b[39;00m\n\u001b[1;32m   2628\u001b[0m \u001b[39m  use this endpoint.\u001b[39;00m\n\u001b[1;32m   2629\u001b[0m \u001b[39m\"\"\"\u001b[39;00m\n\u001b[1;32m   2630\u001b[0m warnings\u001b[39m.\u001b[39mwarn(\n\u001b[1;32m   2631\u001b[0m     \u001b[39m\"\u001b[39m\u001b[39m`Model.fit_generator` is deprecated and \u001b[39m\u001b[39m\"\u001b[39m\n\u001b[1;32m   2632\u001b[0m     \u001b[39m\"\u001b[39m\u001b[39mwill be removed in a future version. \u001b[39m\u001b[39m\"\u001b[39m\n\u001b[1;32m   2633\u001b[0m     \u001b[39m\"\u001b[39m\u001b[39mPlease use `Model.fit`, which supports generators.\u001b[39m\u001b[39m\"\u001b[39m,\n\u001b[1;32m   2634\u001b[0m     stacklevel\u001b[39m=\u001b[39m\u001b[39m2\u001b[39m,\n\u001b[1;32m   2635\u001b[0m )\n\u001b[0;32m-> 2636\u001b[0m \u001b[39mreturn\u001b[39;00m \u001b[39mself\u001b[39;49m\u001b[39m.\u001b[39;49mfit(\n\u001b[1;32m   2637\u001b[0m     generator,\n\u001b[1;32m   2638\u001b[0m     steps_per_epoch\u001b[39m=\u001b[39;49msteps_per_epoch,\n\u001b[1;32m   2639\u001b[0m     epochs\u001b[39m=\u001b[39;49mepochs,\n\u001b[1;32m   2640\u001b[0m     verbose\u001b[39m=\u001b[39;49mverbose,\n\u001b[1;32m   2641\u001b[0m     callbacks\u001b[39m=\u001b[39;49mcallbacks,\n\u001b[1;32m   2642\u001b[0m     validation_data\u001b[39m=\u001b[39;49mvalidation_data,\n\u001b[1;32m   2643\u001b[0m     validation_steps\u001b[39m=\u001b[39;49mvalidation_steps,\n\u001b[1;32m   2644\u001b[0m     validation_freq\u001b[39m=\u001b[39;49mvalidation_freq,\n\u001b[1;32m   2645\u001b[0m     class_weight\u001b[39m=\u001b[39;49mclass_weight,\n\u001b[1;32m   2646\u001b[0m     max_queue_size\u001b[39m=\u001b[39;49mmax_queue_size,\n\u001b[1;32m   2647\u001b[0m     workers\u001b[39m=\u001b[39;49mworkers,\n\u001b[1;32m   2648\u001b[0m     use_multiprocessing\u001b[39m=\u001b[39;49muse_multiprocessing,\n\u001b[1;32m   2649\u001b[0m     shuffle\u001b[39m=\u001b[39;49mshuffle,\n\u001b[1;32m   2650\u001b[0m     initial_epoch\u001b[39m=\u001b[39;49minitial_epoch,\n\u001b[1;32m   2651\u001b[0m )\n",
      "File \u001b[0;32m~/.local/lib/python3.10/site-packages/keras/utils/traceback_utils.py:70\u001b[0m, in \u001b[0;36mfilter_traceback.<locals>.error_handler\u001b[0;34m(*args, **kwargs)\u001b[0m\n\u001b[1;32m     67\u001b[0m     filtered_tb \u001b[39m=\u001b[39m _process_traceback_frames(e\u001b[39m.\u001b[39m__traceback__)\n\u001b[1;32m     68\u001b[0m     \u001b[39m# To get the full stack trace, call:\u001b[39;00m\n\u001b[1;32m     69\u001b[0m     \u001b[39m# `tf.debugging.disable_traceback_filtering()`\u001b[39;00m\n\u001b[0;32m---> 70\u001b[0m     \u001b[39mraise\u001b[39;00m e\u001b[39m.\u001b[39mwith_traceback(filtered_tb) \u001b[39mfrom\u001b[39;00m \u001b[39mNone\u001b[39m\n\u001b[1;32m     71\u001b[0m \u001b[39mfinally\u001b[39;00m:\n\u001b[1;32m     72\u001b[0m     \u001b[39mdel\u001b[39;00m filtered_tb\n",
      "File \u001b[0;32m~/.local/lib/python3.10/site-packages/tensorflow/python/eager/execute.py:52\u001b[0m, in \u001b[0;36mquick_execute\u001b[0;34m(op_name, num_outputs, inputs, attrs, ctx, name)\u001b[0m\n\u001b[1;32m     50\u001b[0m \u001b[39mtry\u001b[39;00m:\n\u001b[1;32m     51\u001b[0m   ctx\u001b[39m.\u001b[39mensure_initialized()\n\u001b[0;32m---> 52\u001b[0m   tensors \u001b[39m=\u001b[39m pywrap_tfe\u001b[39m.\u001b[39mTFE_Py_Execute(ctx\u001b[39m.\u001b[39m_handle, device_name, op_name,\n\u001b[1;32m     53\u001b[0m                                       inputs, attrs, num_outputs)\n\u001b[1;32m     54\u001b[0m \u001b[39mexcept\u001b[39;00m core\u001b[39m.\u001b[39m_NotOkStatusException \u001b[39mas\u001b[39;00m e:\n\u001b[1;32m     55\u001b[0m   \u001b[39mif\u001b[39;00m name \u001b[39mis\u001b[39;00m \u001b[39mnot\u001b[39;00m \u001b[39mNone\u001b[39;00m:\n",
      "\u001b[0;31mUnknownError\u001b[0m: Graph execution error:\n\nFileNotFoundError: [Errno 2] No such file or directory: 'Datasets/Training/meningioma_tumor/m2 (151).jpg'\nTraceback (most recent call last):\n\n  File \"/home/misango/.local/lib/python3.10/site-packages/tensorflow/python/ops/script_ops.py\", line 267, in __call__\n    ret = func(*args)\n\n  File \"/home/misango/.local/lib/python3.10/site-packages/tensorflow/python/autograph/impl/api.py\", line 642, in wrapper\n    return func(*args, **kwargs)\n\n  File \"/home/misango/.local/lib/python3.10/site-packages/tensorflow/python/data/ops/from_generator_op.py\", line 198, in generator_py_func\n    values = next(generator_state.get_iterator(iterator_id))\n\n  File \"/home/misango/.local/lib/python3.10/site-packages/keras/engine/data_adapter.py\", line 902, in wrapped_generator\n    for data in generator_fn():\n\n  File \"/home/misango/.local/lib/python3.10/site-packages/keras/engine/data_adapter.py\", line 1049, in generator_fn\n    yield x[i]\n\n  File \"/home/misango/.local/lib/python3.10/site-packages/keras/preprocessing/image.py\", line 116, in __getitem__\n    return self._get_batches_of_transformed_samples(index_array)\n\n  File \"/home/misango/.local/lib/python3.10/site-packages/keras/preprocessing/image.py\", line 370, in _get_batches_of_transformed_samples\n    img = image_utils.load_img(\n\n  File \"/home/misango/.local/lib/python3.10/site-packages/keras/utils/image_utils.py\", line 422, in load_img\n    with open(path, \"rb\") as f:\n\nFileNotFoundError: [Errno 2] No such file or directory: 'Datasets/Training/meningioma_tumor/m2 (151).jpg'\n\n\n\t [[{{node PyFunc}}]]\n\t [[IteratorGetNext]] [Op:__inference_train_function_109595]"
     ]
    }
   ],
   "source": [
    "#Model fitting \n",
    "# initial parameters\n",
    "epochs_initial = 4\n",
    "step_size_train_initial=train_generator_initial.n//train_generator_initial.batch_size # computing the steps size per epoch\n",
    "\n",
    "tic = time.time()\n",
    "# fit the model\n",
    "r = model.fit_generator(generator=train_generator_initial,\n",
    "                        validation_data=val_generator_initial,\n",
    "                        steps_per_epoch=step_size_train_initial,\n",
    "                        epochs=epochs_initial)\n",
    "\n",
    "toc = time.time()\n",
    "print(\"Minutes taken = \" + str((toc-tic)/60.0))"
   ]
  },
  {
   "cell_type": "code",
   "execution_count": null,
   "metadata": {
    "colab": {
     "base_uri": "https://localhost:8080/"
    },
    "id": "uHnwijwo5umr",
    "outputId": "d5969b21-33b7-452a-aedc-67927a2a780f",
    "tags": []
   },
   "outputs": [],
   "source": [
    "# evaluation on validation data\n",
    "scores = model.evaluate(val_generator_initial)\n",
    "print(\"%s%s: %.2f%%\" % (\"evaluate \",model.metrics_names[1], scores[1]*100))"
   ]
  },
  {
   "cell_type": "markdown",
   "metadata": {
    "id": "-aMsxWRY5ums"
   },
   "source": [
    "Further Fine Tuning According to our Abstract"
   ]
  },
  {
   "cell_type": "code",
   "execution_count": null,
   "metadata": {
    "colab": {
     "base_uri": "https://localhost:8080/",
     "height": 1000,
     "referenced_widgets": [
      "130f948a61c144a8ba815030c2c07f73",
      "bfa896170b004924b62dd19d91199e7a",
      "aba41e21e51c4b97ac064e4dfd88d08b",
      "0a2e58e41d3d4c4fa269218f0b037cc2",
      "386df3aa0c49447ab2633b5c671ca393",
      "45190887612342909d4637c73d00914a",
      "2636e45e4e8c4f01bfb652e8000d1e3c",
      "988774910ad145caa85c35c07e5398fd",
      "0d8a645737b741ad9322f174d81ded3b",
      "155bf0cb530c4c199b24a1967e386a63",
      "aa0c2c4f321b460e85fa713af9b56482"
     ]
    },
    "id": "OiMwgHr15ums",
    "outputId": "15845a72-2d35-4200-ced1-123f298be715"
   },
   "outputs": [
    {
     "data": {
      "application/vnd.jupyter.widget-view+json": {
       "model_id": "130f948a61c144a8ba815030c2c07f73",
       "version_major": 2,
       "version_minor": 0
      },
      "text/plain": [
       "  0%|          | 0/5 [00:00<?, ?it/s]"
      ]
     },
     "metadata": {},
     "output_type": "display_data"
    },
    {
     "name": "stdout",
     "output_type": "stream",
     "text": [
      "Epoch 1/4\n"
     ]
    },
    {
     "name": "stderr",
     "output_type": "stream",
     "text": [
      "<ipython-input-3-10783f5e508e>:79: UserWarning: `Model.fit_generator` is deprecated and will be removed in a future version. Please use `Model.fit`, which supports generators.\n",
      "  r = model.fit_generator(generator=train_generator,\n"
     ]
    },
    {
     "name": "stdout",
     "output_type": "stream",
     "text": [
      "358/358 [==============================] - 166s 395ms/step - loss: 1.4464 - accuracy: 0.9182 - val_loss: 0.9627 - val_accuracy: 0.8731\n",
      "Epoch 2/4\n",
      "358/358 [==============================] - 137s 382ms/step - loss: 0.2731 - accuracy: 0.9469 - val_loss: 0.6515 - val_accuracy: 0.9255\n",
      "Epoch 3/4\n",
      "358/358 [==============================] - 136s 382ms/step - loss: 0.2376 - accuracy: 0.9549 - val_loss: 0.4493 - val_accuracy: 0.8908\n",
      "Epoch 4/4\n",
      "358/358 [==============================] - 137s 382ms/step - loss: 0.1755 - accuracy: 0.9612 - val_loss: 0.3137 - val_accuracy: 0.9436\n",
      "878/878 [==============================] - 98s 112ms/step - loss: 0.3137 - accuracy: 0.9436\n",
      "Epoch 1/4\n",
      "358/358 [==============================] - 163s 392ms/step - loss: 0.1596 - accuracy: 0.9469 - val_loss: 0.1588 - val_accuracy: 0.9497\n",
      "Epoch 2/4\n",
      "358/358 [==============================] - 135s 377ms/step - loss: 0.0985 - accuracy: 0.9686 - val_loss: 0.1469 - val_accuracy: 0.9506\n",
      "Epoch 3/4\n",
      "358/358 [==============================] - 134s 376ms/step - loss: 0.0695 - accuracy: 0.9773 - val_loss: 0.1617 - val_accuracy: 0.9516\n",
      "Epoch 4/4\n",
      "358/358 [==============================] - 134s 376ms/step - loss: 0.0546 - accuracy: 0.9818 - val_loss: 0.1654 - val_accuracy: 0.9513\n",
      "878/878 [==============================] - 98s 112ms/step - loss: 0.1654 - accuracy: 0.9513\n",
      "Epoch 1/4\n",
      "358/358 [==============================] - 164s 390ms/step - loss: 2.5990 - accuracy: 0.9053 - val_loss: 0.3556 - val_accuracy: 0.9214\n",
      "Epoch 2/4\n",
      "358/358 [==============================] - 135s 377ms/step - loss: 0.2407 - accuracy: 0.9528 - val_loss: 0.5063 - val_accuracy: 0.9450\n",
      "Epoch 3/4\n",
      "358/358 [==============================] - 135s 377ms/step - loss: 0.2185 - accuracy: 0.9640 - val_loss: 0.3433 - val_accuracy: 0.9280\n",
      "Epoch 4/4\n",
      "358/358 [==============================] - 135s 377ms/step - loss: 0.1758 - accuracy: 0.9654 - val_loss: 0.2563 - val_accuracy: 0.9465\n",
      "878/878 [==============================] - 98s 112ms/step - loss: 0.2563 - accuracy: 0.9465\n",
      "Epoch 1/4\n",
      "358/358 [==============================] - 164s 395ms/step - loss: 0.1579 - accuracy: 0.9525 - val_loss: 0.1589 - val_accuracy: 0.9479\n",
      "Epoch 2/4\n",
      "358/358 [==============================] - 135s 377ms/step - loss: 0.0846 - accuracy: 0.9713 - val_loss: 0.1436 - val_accuracy: 0.9544\n",
      "Epoch 3/4\n",
      "358/358 [==============================] - 185s 517ms/step - loss: 0.0633 - accuracy: 0.9790 - val_loss: 0.1371 - val_accuracy: 0.9590\n",
      "Epoch 4/4\n",
      "358/358 [==============================] - 185s 518ms/step - loss: 0.0452 - accuracy: 0.9867 - val_loss: 0.1991 - val_accuracy: 0.9379\n",
      "878/878 [==============================] - 98s 112ms/step - loss: 0.1991 - accuracy: 0.9379\n",
      "Epoch 1/4\n",
      "358/358 [==============================] - 167s 397ms/step - loss: 0.3471 - accuracy: 0.9315 - val_loss: 0.1977 - val_accuracy: 0.9430\n",
      "Epoch 2/4\n",
      "358/358 [==============================] - 137s 382ms/step - loss: 0.1380 - accuracy: 0.9584 - val_loss: 0.1664 - val_accuracy: 0.9476\n",
      "Epoch 3/4\n",
      "358/358 [==============================] - 137s 382ms/step - loss: 0.1003 - accuracy: 0.9693 - val_loss: 0.1612 - val_accuracy: 0.9473\n",
      "Epoch 4/4\n",
      "358/358 [==============================] - 136s 381ms/step - loss: 0.0996 - accuracy: 0.9700 - val_loss: 0.1463 - val_accuracy: 0.9530\n",
      "878/878 [==============================] - 98s 112ms/step - loss: 0.1463 - accuracy: 0.9530\n",
      "Minutes taken = 63.88058008352915\n"
     ]
    },
    {
     "data": {
      "text/html": [
       "\n",
       "  <div id=\"df-ed62a5e2-387e-440e-a161-c9fa0cb97ba1\">\n",
       "    <div class=\"colab-df-container\">\n",
       "      <div>\n",
       "<style scoped>\n",
       "    .dataframe tbody tr th:only-of-type {\n",
       "        vertical-align: middle;\n",
       "    }\n",
       "\n",
       "    .dataframe tbody tr th {\n",
       "        vertical-align: top;\n",
       "    }\n",
       "\n",
       "    .dataframe thead th {\n",
       "        text-align: right;\n",
       "    }\n",
       "</style>\n",
       "<table border=\"1\" class=\"dataframe\">\n",
       "  <thead>\n",
       "    <tr style=\"text-align: right;\">\n",
       "      <th></th>\n",
       "      <th>optimizer</th>\n",
       "      <th>accuracy</th>\n",
       "    </tr>\n",
       "  </thead>\n",
       "  <tbody>\n",
       "    <tr>\n",
       "      <th>0</th>\n",
       "      <td>Adam</td>\n",
       "      <td>94.361383</td>\n",
       "    </tr>\n",
       "    <tr>\n",
       "      <th>1</th>\n",
       "      <td>SGD</td>\n",
       "      <td>95.130289</td>\n",
       "    </tr>\n",
       "    <tr>\n",
       "      <th>2</th>\n",
       "      <td>RMSprop</td>\n",
       "      <td>94.646162</td>\n",
       "    </tr>\n",
       "    <tr>\n",
       "      <th>3</th>\n",
       "      <td>Adagrad</td>\n",
       "      <td>93.791825</td>\n",
       "    </tr>\n",
       "    <tr>\n",
       "      <th>4</th>\n",
       "      <td>Adadelta</td>\n",
       "      <td>95.301151</td>\n",
       "    </tr>\n",
       "  </tbody>\n",
       "</table>\n",
       "</div>\n",
       "      <button class=\"colab-df-convert\" onclick=\"convertToInteractive('df-ed62a5e2-387e-440e-a161-c9fa0cb97ba1')\"\n",
       "              title=\"Convert this dataframe to an interactive table.\"\n",
       "              style=\"display:none;\">\n",
       "        \n",
       "  <svg xmlns=\"http://www.w3.org/2000/svg\" height=\"24px\"viewBox=\"0 0 24 24\"\n",
       "       width=\"24px\">\n",
       "    <path d=\"M0 0h24v24H0V0z\" fill=\"none\"/>\n",
       "    <path d=\"M18.56 5.44l.94 2.06.94-2.06 2.06-.94-2.06-.94-.94-2.06-.94 2.06-2.06.94zm-11 1L8.5 8.5l.94-2.06 2.06-.94-2.06-.94L8.5 2.5l-.94 2.06-2.06.94zm10 10l.94 2.06.94-2.06 2.06-.94-2.06-.94-.94-2.06-.94 2.06-2.06.94z\"/><path d=\"M17.41 7.96l-1.37-1.37c-.4-.4-.92-.59-1.43-.59-.52 0-1.04.2-1.43.59L10.3 9.45l-7.72 7.72c-.78.78-.78 2.05 0 2.83L4 21.41c.39.39.9.59 1.41.59.51 0 1.02-.2 1.41-.59l7.78-7.78 2.81-2.81c.8-.78.8-2.07 0-2.86zM5.41 20L4 18.59l7.72-7.72 1.47 1.35L5.41 20z\"/>\n",
       "  </svg>\n",
       "      </button>\n",
       "      \n",
       "  <style>\n",
       "    .colab-df-container {\n",
       "      display:flex;\n",
       "      flex-wrap:wrap;\n",
       "      gap: 12px;\n",
       "    }\n",
       "\n",
       "    .colab-df-convert {\n",
       "      background-color: #E8F0FE;\n",
       "      border: none;\n",
       "      border-radius: 50%;\n",
       "      cursor: pointer;\n",
       "      display: none;\n",
       "      fill: #1967D2;\n",
       "      height: 32px;\n",
       "      padding: 0 0 0 0;\n",
       "      width: 32px;\n",
       "    }\n",
       "\n",
       "    .colab-df-convert:hover {\n",
       "      background-color: #E2EBFA;\n",
       "      box-shadow: 0px 1px 2px rgba(60, 64, 67, 0.3), 0px 1px 3px 1px rgba(60, 64, 67, 0.15);\n",
       "      fill: #174EA6;\n",
       "    }\n",
       "\n",
       "    [theme=dark] .colab-df-convert {\n",
       "      background-color: #3B4455;\n",
       "      fill: #D2E3FC;\n",
       "    }\n",
       "\n",
       "    [theme=dark] .colab-df-convert:hover {\n",
       "      background-color: #434B5C;\n",
       "      box-shadow: 0px 1px 3px 1px rgba(0, 0, 0, 0.15);\n",
       "      filter: drop-shadow(0px 1px 2px rgba(0, 0, 0, 0.3));\n",
       "      fill: #FFFFFF;\n",
       "    }\n",
       "  </style>\n",
       "\n",
       "      <script>\n",
       "        const buttonEl =\n",
       "          document.querySelector('#df-ed62a5e2-387e-440e-a161-c9fa0cb97ba1 button.colab-df-convert');\n",
       "        buttonEl.style.display =\n",
       "          google.colab.kernel.accessAllowed ? 'block' : 'none';\n",
       "\n",
       "        async function convertToInteractive(key) {\n",
       "          const element = document.querySelector('#df-ed62a5e2-387e-440e-a161-c9fa0cb97ba1');\n",
       "          const dataTable =\n",
       "            await google.colab.kernel.invokeFunction('convertToInteractive',\n",
       "                                                     [key], {});\n",
       "          if (!dataTable) return;\n",
       "\n",
       "          const docLinkHtml = 'Like what you see? Visit the ' +\n",
       "            '<a target=\"_blank\" href=https://colab.research.google.com/notebooks/data_table.ipynb>data table notebook</a>'\n",
       "            + ' to learn more about interactive tables.';\n",
       "          element.innerHTML = '';\n",
       "          dataTable['output_type'] = 'display_data';\n",
       "          await google.colab.output.renderOutput(dataTable, element);\n",
       "          const docLink = document.createElement('div');\n",
       "          docLink.innerHTML = docLinkHtml;\n",
       "          element.appendChild(docLink);\n",
       "        }\n",
       "      </script>\n",
       "    </div>\n",
       "  </div>\n",
       "  "
      ],
      "text/plain": [
       "  optimizer   accuracy\n",
       "0      Adam  94.361383\n",
       "1       SGD  95.130289\n",
       "2   RMSprop  94.646162\n",
       "3   Adagrad  93.791825\n",
       "4  Adadelta  95.301151"
      ]
     },
     "execution_count": 14,
     "metadata": {},
     "output_type": "execute_result"
    }
   ],
   "source": [
    "#Tuning the model's optimizers\n",
    "param_label = 'optimizer'\n",
    "param_list = ['Adam', 'SGD', 'RMSprop', 'Adagrad', 'Adadelta'] # ['Adam', 'SGD', 'RMSprop', 'Adagrad', 'Adadelta']\n",
    "\n",
    "accuracy_table = {param_label: [], 'accuracy': []}\n",
    "tic = time.time()\n",
    "for param in tqdm.tqdm_notebook(param_list):\n",
    "    # Train, and evaluate model\n",
    "    accuracy, _ = train_evaluate_the_model(train_generator_initial,val_generator_initial,param,epochs_initial,dropout_value_initial,efnB7_basemodel) # replace epochs with 'epochs_initial'\n",
    "    \n",
    "    # Collect results\n",
    "    accuracy_table[param_label].append(param)\n",
    "    accuracy_table['accuracy'].append(accuracy)\n",
    "    \n",
    "accuracy_table = pd.DataFrame(accuracy_table) # convert the table to a dataframe\n",
    "toc = time.time()\n",
    "print(\"Minutes taken = \" + str((toc-tic)/60.0))\n",
    "accuracy_table # display the resullts"
   ]
  },
  {
   "cell_type": "code",
   "execution_count": null,
   "metadata": {
    "colab": {
     "base_uri": "https://localhost:8080/",
     "height": 713
    },
    "id": "XtHKfcO45umt",
    "outputId": "1ac08665-4cc0-4091-9e12-a2cab3325960"
   },
   "outputs": [
    {
     "data": {
      "text/plain": [
       "Text(0, 0.5, 'accuracy)')"
      ]
     },
     "execution_count": 15,
     "metadata": {},
     "output_type": "execute_result"
    },
    {
     "data": {
      "image/png": "[encoded data removed]",
      "text/plain": [
       "<Figure size 1000x800 with 1 Axes>"
      ]
     },
     "metadata": {},
     "output_type": "display_data"
    }
   ],
   "source": [
    "from pylab import rcParams\n",
    "\n",
    "# plot results\n",
    "rcParams['figure.figsize'] = 10,8 # width 10, height 8\n",
    "\n",
    "ax = accuracy_table.plot(x='optimizer', y='accuracy',style='bx-', grid=True)\n",
    "ax.set_xlabel(\"Optimizer\")\n",
    "ax.set_ylabel(\"accuracy)\")"
   ]
  },
  {
   "cell_type": "code",
   "execution_count": null,
   "metadata": {
    "colab": {
     "base_uri": "https://localhost:8080/"
    },
    "id": "gnSeH39i5umt",
    "outputId": "b9b90cdb-8ec1-43c8-a9fc-8db3e592728b"
   },
   "outputs": [
    {
     "name": "stdout",
     "output_type": "stream",
     "text": [
      "max Accuracy = 95.301\n",
      "optimum optimizer = Adadelta\n"
     ]
    }
   ],
   "source": [
    "# Get optimum value for param\n",
    "temp = accuracy_table[accuracy_table['accuracy'] == accuracy_table['accuracy'].max()]\n",
    "optimizer_opt = temp[param_label].values[0]\n",
    "print(\"max Accuracy = %0.3f\" % accuracy_table['accuracy'].max())\n",
    "print(\"optimum \" + param_label + \" = \" + str(optimizer_opt))"
   ]
  },
  {
   "cell_type": "code",
   "execution_count": null,
   "metadata": {
    "colab": {
     "base_uri": "https://localhost:8080/",
     "height": 695,
     "referenced_widgets": [
      "94a0893bbce84f73a794f6690e066d57",
      "b07b427c002d498492474cc9da82ccd1",
      "42220e53623547e68503f7c4fce6e64e",
      "dfbace783daa46d897bd25406beb6e2c",
      "9aad7f063edf4658a5541f7da317974a",
      "709d92fce0dc4784adfe5fd9f1dcb344",
      "5364ba63095c42c3a0df439293a179ba",
      "08cf8fa8ea2e4a1b925d2a8c71a59c15",
      "ec3e53000f754d1683673d9a2dd39450",
      "2afe5dfc441346c19e80f2429b48fddf",
      "8cb258d5a2fb4b6ea88c0c7b77509030"
     ]
    },
    "id": "Tw8xX9ZC5umu",
    "outputId": "2731755e-6f47-442f-bc76-2f014130fe54"
   },
   "outputs": [
    {
     "data": {
      "application/vnd.jupyter.widget-view+json": {
       "model_id": "94a0893bbce84f73a794f6690e066d57",
       "version_major": 2,
       "version_minor": 0
      },
      "text/plain": [
       "  0%|          | 0/5 [00:00<?, ?it/s]"
      ]
     },
     "metadata": {},
     "output_type": "display_data"
    },
    {
     "name": "stdout",
     "output_type": "stream",
     "text": [
      "Epoch 1/4\n"
     ]
    },
    {
     "name": "stderr",
     "output_type": "stream",
     "text": [
      "<ipython-input-3-10783f5e508e>:79: UserWarning: `Model.fit_generator` is deprecated and will be removed in a future version. Please use `Model.fit`, which supports generators.\n",
      "  r = model.fit_generator(generator=train_generator,\n"
     ]
    },
    {
     "name": "stdout",
     "output_type": "stream",
     "text": [
      "358/358 [==============================] - 217s 539ms/step - loss: 1.8555 - accuracy: 0.9106 - val_loss: 0.4737 - val_accuracy: 0.9113\n",
      "Epoch 2/4\n",
      "358/358 [==============================] - 137s 382ms/step - loss: 0.3219 - accuracy: 0.9486 - val_loss: 0.3377 - val_accuracy: 0.9210\n",
      "Epoch 3/4\n",
      "358/358 [==============================] - 137s 382ms/step - loss: 0.2763 - accuracy: 0.9427 - val_loss: 0.2301 - val_accuracy: 0.9502\n",
      "Epoch 4/4\n",
      "358/358 [==============================] - 136s 382ms/step - loss: 0.2408 - accuracy: 0.9553 - val_loss: 0.3753 - val_accuracy: 0.9526\n",
      "878/878 [==============================] - 99s 113ms/step - loss: 0.3753 - accuracy: 0.9526\n"
     ]
    },
    {
     "ename": "ResourceExhaustedError",
     "evalue": "ignored",
     "output_type": "error",
     "traceback": [
      "\u001b[0;31m---------------------------------------------------------------------------\u001b[0m",
      "\u001b[0;31mResourceExhaustedError\u001b[0m                    Traceback (most recent call last)",
      "\u001b[0;32m<ipython-input-17-a58b18192058>\u001b[0m in \u001b[0;36m<cell line: 8>\u001b[0;34m()\u001b[0m\n\u001b[1;32m      8\u001b[0m \u001b[0;32mfor\u001b[0m \u001b[0mparam\u001b[0m \u001b[0;32min\u001b[0m \u001b[0mtqdm\u001b[0m\u001b[0;34m.\u001b[0m\u001b[0mtqdm_notebook\u001b[0m\u001b[0;34m(\u001b[0m\u001b[0mparam_list\u001b[0m\u001b[0;34m)\u001b[0m\u001b[0;34m:\u001b[0m\u001b[0;34m\u001b[0m\u001b[0;34m\u001b[0m\u001b[0m\n\u001b[1;32m      9\u001b[0m     \u001b[0;31m# Train, predict and evaluate model\u001b[0m\u001b[0;34m\u001b[0m\u001b[0;34m\u001b[0m\u001b[0m\n\u001b[0;32m---> 10\u001b[0;31m     \u001b[0maccuracy\u001b[0m\u001b[0;34m,\u001b[0m \u001b[0m_\u001b[0m \u001b[0;34m=\u001b[0m \u001b[0mtrain_evaluate_the_model\u001b[0m\u001b[0;34m(\u001b[0m\u001b[0mtrain_generator_initial\u001b[0m\u001b[0;34m,\u001b[0m\u001b[0mval_generator_initial\u001b[0m\u001b[0;34m,\u001b[0m\u001b[0moptimizer_initial\u001b[0m\u001b[0;34m,\u001b[0m\u001b[0mepochs_initial\u001b[0m\u001b[0;34m,\u001b[0m\u001b[0mparam\u001b[0m\u001b[0;34m,\u001b[0m\u001b[0mefnB7_basemodel\u001b[0m\u001b[0;34m)\u001b[0m \u001b[0;31m# replace epochs with 'epochs_initial'\u001b[0m\u001b[0;34m\u001b[0m\u001b[0;34m\u001b[0m\u001b[0m\n\u001b[0m\u001b[1;32m     11\u001b[0m \u001b[0;34m\u001b[0m\u001b[0m\n\u001b[1;32m     12\u001b[0m     \u001b[0;31m# Collect results\u001b[0m\u001b[0;34m\u001b[0m\u001b[0;34m\u001b[0m\u001b[0m\n",
      "\u001b[0;32m<ipython-input-3-10783f5e508e>\u001b[0m in \u001b[0;36mtrain_evaluate_the_model\u001b[0;34m(train_generator, val_generator, optimizer, epochs, dropout_value, TheModel)\u001b[0m\n\u001b[1;32m     60\u001b[0m     \u001b[0mx\u001b[0m \u001b[0;34m=\u001b[0m \u001b[0mTheModel\u001b[0m\u001b[0;34m.\u001b[0m\u001b[0moutput\u001b[0m\u001b[0;34m\u001b[0m\u001b[0;34m\u001b[0m\u001b[0m\n\u001b[1;32m     61\u001b[0m     \u001b[0mx\u001b[0m \u001b[0;34m=\u001b[0m \u001b[0mtf\u001b[0m\u001b[0;34m.\u001b[0m\u001b[0mkeras\u001b[0m\u001b[0;34m.\u001b[0m\u001b[0mlayers\u001b[0m\u001b[0;34m.\u001b[0m\u001b[0mFlatten\u001b[0m\u001b[0;34m(\u001b[0m\u001b[0;34m)\u001b[0m\u001b[0;34m(\u001b[0m\u001b[0mx\u001b[0m\u001b[0;34m)\u001b[0m\u001b[0;34m\u001b[0m\u001b[0;34m\u001b[0m\u001b[0m\n\u001b[0;32m---> 62\u001b[0;31m     \u001b[0mx\u001b[0m \u001b[0;34m=\u001b[0m \u001b[0mDense\u001b[0m\u001b[0;34m(\u001b[0m\u001b[0;36m1024\u001b[0m\u001b[0;34m,\u001b[0m \u001b[0mactivation\u001b[0m\u001b[0;34m=\u001b[0m\u001b[0;34m\"relu\"\u001b[0m\u001b[0;34m)\u001b[0m\u001b[0;34m(\u001b[0m\u001b[0mx\u001b[0m\u001b[0;34m)\u001b[0m\u001b[0;34m\u001b[0m\u001b[0;34m\u001b[0m\u001b[0m\n\u001b[0m\u001b[1;32m     63\u001b[0m     \u001b[0mx\u001b[0m \u001b[0;34m=\u001b[0m \u001b[0mDense\u001b[0m\u001b[0;34m(\u001b[0m\u001b[0;36m1024\u001b[0m\u001b[0;34m,\u001b[0m \u001b[0mactivation\u001b[0m\u001b[0;34m=\u001b[0m\u001b[0;34m\"relu\"\u001b[0m\u001b[0;34m)\u001b[0m\u001b[0;34m(\u001b[0m\u001b[0mx\u001b[0m\u001b[0;34m)\u001b[0m\u001b[0;34m\u001b[0m\u001b[0;34m\u001b[0m\u001b[0m\n\u001b[1;32m     64\u001b[0m     \u001b[0mx\u001b[0m \u001b[0;34m=\u001b[0m \u001b[0mDense\u001b[0m\u001b[0;34m(\u001b[0m\u001b[0;36m512\u001b[0m\u001b[0;34m,\u001b[0m \u001b[0mactivation\u001b[0m\u001b[0;34m=\u001b[0m\u001b[0;34m\"relu\"\u001b[0m\u001b[0;34m)\u001b[0m\u001b[0;34m(\u001b[0m\u001b[0mx\u001b[0m\u001b[0;34m)\u001b[0m\u001b[0;34m\u001b[0m\u001b[0;34m\u001b[0m\u001b[0m\n",
      "\u001b[0;32m/usr/local/lib/python3.9/dist-packages/keras/utils/traceback_utils.py\u001b[0m in \u001b[0;36merror_handler\u001b[0;34m(*args, **kwargs)\u001b[0m\n\u001b[1;32m     68\u001b[0m             \u001b[0;31m# To get the full stack trace, call:\u001b[0m\u001b[0;34m\u001b[0m\u001b[0;34m\u001b[0m\u001b[0m\n\u001b[1;32m     69\u001b[0m             \u001b[0;31m# `tf.debugging.disable_traceback_filtering()`\u001b[0m\u001b[0;34m\u001b[0m\u001b[0;34m\u001b[0m\u001b[0m\n\u001b[0;32m---> 70\u001b[0;31m             \u001b[0;32mraise\u001b[0m \u001b[0me\u001b[0m\u001b[0;34m.\u001b[0m\u001b[0mwith_traceback\u001b[0m\u001b[0;34m(\u001b[0m\u001b[0mfiltered_tb\u001b[0m\u001b[0;34m)\u001b[0m \u001b[0;32mfrom\u001b[0m \u001b[0;32mNone\u001b[0m\u001b[0;34m\u001b[0m\u001b[0;34m\u001b[0m\u001b[0m\n\u001b[0m\u001b[1;32m     71\u001b[0m         \u001b[0;32mfinally\u001b[0m\u001b[0;34m:\u001b[0m\u001b[0;34m\u001b[0m\u001b[0;34m\u001b[0m\u001b[0m\n\u001b[1;32m     72\u001b[0m             \u001b[0;32mdel\u001b[0m \u001b[0mfiltered_tb\u001b[0m\u001b[0;34m\u001b[0m\u001b[0;34m\u001b[0m\u001b[0m\n",
      "\u001b[0;32m/usr/local/lib/python3.9/dist-packages/keras/backend.py\u001b[0m in \u001b[0;36mrandom_uniform\u001b[0;34m(self, shape, minval, maxval, dtype, nonce)\u001b[0m\n\u001b[1;32m   2099\u001b[0m             \u001b[0;32mif\u001b[0m \u001b[0mnonce\u001b[0m\u001b[0;34m:\u001b[0m\u001b[0;34m\u001b[0m\u001b[0;34m\u001b[0m\u001b[0m\n\u001b[1;32m   2100\u001b[0m                 \u001b[0mseed\u001b[0m \u001b[0;34m=\u001b[0m \u001b[0mtf\u001b[0m\u001b[0;34m.\u001b[0m\u001b[0mrandom\u001b[0m\u001b[0;34m.\u001b[0m\u001b[0mexperimental\u001b[0m\u001b[0;34m.\u001b[0m\u001b[0mstateless_fold_in\u001b[0m\u001b[0;34m(\u001b[0m\u001b[0mseed\u001b[0m\u001b[0;34m,\u001b[0m \u001b[0mnonce\u001b[0m\u001b[0;34m)\u001b[0m\u001b[0;34m\u001b[0m\u001b[0;34m\u001b[0m\u001b[0m\n\u001b[0;32m-> 2101\u001b[0;31m             return tf.random.stateless_uniform(\n\u001b[0m\u001b[1;32m   2102\u001b[0m                 \u001b[0mshape\u001b[0m\u001b[0;34m=\u001b[0m\u001b[0mshape\u001b[0m\u001b[0;34m,\u001b[0m\u001b[0;34m\u001b[0m\u001b[0;34m\u001b[0m\u001b[0m\n\u001b[1;32m   2103\u001b[0m                 \u001b[0mminval\u001b[0m\u001b[0;34m=\u001b[0m\u001b[0mminval\u001b[0m\u001b[0;34m,\u001b[0m\u001b[0;34m\u001b[0m\u001b[0;34m\u001b[0m\u001b[0m\n",
      "\u001b[0;31mResourceExhaustedError\u001b[0m: {{function_node __wrapped__AddV2_device_/job:localhost/replica:0/task:0/device:GPU:0}} failed to allocate memory [Op:AddV2]"
     ]
    }
   ],
   "source": [
    "# Tuning the Dropout rate of the model\n",
    "param_label = 'dropout_prob'\n",
    "param_list = [0.5, 0.6, 0.7, 0.8, 0.9]\n",
    "\n",
    "\n",
    "accuracy_table = {param_label: [], 'accuracy': []}\n",
    "tic = time.time()\n",
    "for param in tqdm.tqdm_notebook(param_list):\n",
    "    # Train, predict and evaluate model\n",
    "    accuracy, _ = train_evaluate_the_model(train_generator_initial,val_generator_initial,optimizer_initial,epochs_initial,param,efnB7_basemodel) # replace epochs with 'epochs_initial'\n",
    "    \n",
    "    # Collect results\n",
    "    accuracy_table[param_label].append(param)\n",
    "    accuracy_table['accuracy'].append(accuracy)\n",
    "    \n",
    "accuracy_table = pd.DataFrame(accuracy_table) # convert the table to a dataframe\n",
    "toc = time.time()\n",
    "print(\"Minutes taken = \" + str((toc-tic)/60.0))\n",
    "accuracy_table # display the resullts"
   ]
  },
  {
   "cell_type": "code",
   "execution_count": null,
   "metadata": {
    "id": "TCxKG_pd5umu"
   },
   "outputs": [],
   "source": [
    "from pylab import rcParams\n",
    "\n",
    "# plot results\n",
    "rcParams['figure.figsize'] = 10,8 # width 10, height 8\n",
    "\n",
    "ax = accuracy_table.plot(x='dropout_prob', y='accuracy',style='bx-', grid=True)\n",
    "ax.set_xlabel(\"dropout_prob\")\n",
    "ax.set_ylabel(\"accuracy)\")"
   ]
  },
  {
   "cell_type": "code",
   "execution_count": null,
   "metadata": {
    "id": "TCY7jYok5umv"
   },
   "outputs": [],
   "source": [
    "# Get optimum value for param\n",
    "temp = accuracy_table[accuracy_table['accuracy'] == accuracy_table['accuracy'].max()]\n",
    "dropout_opt = temp[param_label].values[0]\n",
    "print(\"max Accuracy = %0.3f\" % accuracy_table['accuracy'].max())\n",
    "print(\"optimum \" + param_label + \" = \" + str(dropout_opt))"
   ]
  },
  {
   "cell_type": "code",
   "execution_count": null,
   "metadata": {
    "id": "2zlJ0Ev85umv"
   },
   "outputs": [],
   "source": [
    "#Tuning the batch size and epochs of the model\n",
    "param_label = 'epochs'\n",
    "param_list = [1,2,5,10] # [5, 10, 15, 20]\n",
    "\n",
    "param2_label = 'batch_size'\n",
    "param2_list = [8, 16] # [8, 16, 32] am using this batch sizes for now until we fix the accuracy issue, proper batch sizes to be use [8, 16, 32, 64, 128]\n",
    "\n",
    "accuracy_table = {param_label: [], param2_label: [], 'accuracy': []}\n",
    "tic = time.time()\n",
    "for param in tqdm.tqdm_notebook(param_list):\n",
    "    for param2 in tqdm_notebook(param2_list):\n",
    "        \n",
    "        # generate train and validation data\n",
    "        train_generator,val_generator, _ = get_data_generator(train_dataset_path,validation_dataset_path,test_dataset_path, targetsize_constant, classmode_constant, param2)\n",
    "        # train, predict and evaluate model\n",
    "        accuracy, _ = train_evaluate_the_model(train_generator, val_generator, optimizer_initial, param,dropout_value_initial, efnB7_basemodel)\n",
    "        \n",
    "        # collect results\n",
    "        accuracy_table[param_label].append(param)\n",
    "        accuracy_table[param2_label].append(param2)\n",
    "        accuracy_table['accuracy'].append(accuracy)\n",
    "        \n",
    "accuracy_table = pd.DataFrame(accuracy_table) # convert the table to a dataframe\n",
    "toc = time.time()\n",
    "print(\"Minutes taken = \" + str((toc-tic)/60.0))\n",
    "accuracy_table # display the resullts"
   ]
  },
  {
   "cell_type": "code",
   "execution_count": null,
   "metadata": {
    "id": "ANNWF6r-5umv"
   },
   "outputs": [],
   "source": [
    "from pylab import rcParams\n",
    "\n",
    "# Plot performance versus params\n",
    "rcParams['figure.figsize'] = 10, 8 # width 10, height 8\n",
    "temp = accuracy_table[accuracy_table[param2_label]==param2_list[0]]\n",
    "ax = temp.plot(x=param_label, y='accuracy', style='bs-', grid=True)\n",
    "legend_list = [param2_label + '_' + str(param2_list[0])]\n",
    "\n",
    "color_list = ['r', 'g', 'k', '0.75']\n",
    "for i in range(1,len(param2_list)):\n",
    "    temp = accuracy_table[accuracy_table[param2_label]==param2_list[i]]\n",
    "    ax = temp.plot(x=param_label, y='accuracy', color=color_list[i%len(color_list)], marker='s', grid=True, ax=ax)\n",
    "    legend_list.append(param2_label + '_' + str(param2_list[i]))\n",
    "\n",
    "ax.set_xlabel(param_label)\n",
    "ax.set_ylabel(\"accuracy\")\n",
    "plt.rcParams.update({'font.size': 14})\n",
    "plt.legend(legend_list, loc='center left', bbox_to_anchor=(1.0, 0.5)) # positions legend outside figure\n",
    "# ax.set_xlim([10, 50])\n",
    "# ax.set_ylim([0, 5])"
   ]
  },
  {
   "cell_type": "code",
   "execution_count": null,
   "metadata": {
    "id": "5FtAkd4V5umw"
   },
   "outputs": [],
   "source": [
    "# Get optimum value for param and param2\n",
    "temp = accuracy_table[accuracy_table['accuracy'] == accuracy_table['accuracy'].max()]\n",
    "epochs_opt = temp[param_label].values[0]\n",
    "batch_size_opt = temp[param2_label].values[0]\n",
    "print(\"max Accuracy = %0.3f\" % accuracy_table['accuracy'].max())\n",
    "print(\"optimum \" + param_label + \" = \" + str(epochs_opt))\n",
    "print(\"optimum \" + param2_label + \" = \" + str(batch_size_opt))"
   ]
  },
  {
   "cell_type": "code",
   "execution_count": null,
   "metadata": {
    "id": "ENs6RQhhN0Kd"
   },
   "outputs": [],
   "source": [
    "######\n",
    "dropout_opt = 0.6\n",
    "batch_size_opt = 16\n",
    "epochs_opt = 10\n",
    "optimizer_opt = 'Adagrad'\n",
    "#####"
   ]
  },
  {
   "cell_type": "code",
   "execution_count": null,
   "metadata": {
    "id": "lw-P2o9bN0Nk"
   },
   "outputs": [],
   "source": [
    "##Collecting all optimum tuned parameters\n",
    "d = {'param': ['optimizer', 'epochs', 'batch_size','dropout_prob'],\n",
    "     'original': [optimizer_initial, epochs_initial, batchsize_initial,dropout_value_initial],\n",
    "     'after_tuning': [optimizer_opt, epochs_opt, batch_size_opt,dropout_opt]}\n",
    "tuned_params = pd.DataFrame(d)\n",
    "tuned_params"
   ]
  },
  {
   "cell_type": "code",
   "execution_count": null,
   "metadata": {
    "id": "G9HqIQLcN0VS"
   },
   "outputs": [],
   "source": [
    "#Creating the final Model with optimum parameters\n",
    "# get train and validation data generator\n",
    "train_generator_opt,val_generator_opt,test_generator_opt = get_data_generator(train_dataset_path,validation_dataset_path,test_dataset_path, targetsize_constant, classmode_constant, batch_size_opt)\n",
    "\n",
    "# train and evaluate the model\n",
    "accuracy, New_model = train_evaluate_the_model(train_generator_opt, val_generator_opt, optimizer_opt, epochs_opt,dropout_opt , efnB7_basemodel)\n"
   ]
  },
  {
   "cell_type": "code",
   "execution_count": null,
   "metadata": {
    "id": "ypetfV3SN0X8"
   },
   "outputs": [],
   "source": [
    "accuracy"
   ]
  },
  {
   "cell_type": "code",
   "execution_count": null,
   "metadata": {
    "id": "7BYfnbe9N0a0"
   },
   "outputs": [],
   "source": [
    "#Saving the model for the webapp\n",
    "New_model.save('brain_tumor_classification_efnB7_test10091335.hdf5') #28060904 - dd/mm/hours/minutes"
   ]
  }
 ],
 "metadata": {
  "accelerator": "GPU",
  "colab": {
   "provenance": []
  },
  "gpuClass": "standard",
  "kernelspec": {
   "display_name": "Python 3 (ipykernel)",
   "language": "python",
   "name": "python3"
  },
  "language_info": {
   "codemirror_mode": {
    "name": "ipython",
    "version": 3
   },
   "file_extension": ".py",
   "mimetype": "text/x-python",
   "name": "python",
   "nbconvert_exporter": "python",
   "pygments_lexer": "ipython3",
   "version": "3.10.6"
  },
  "widgets": {
   "application/vnd.jupyter.widget-state+json": {
    "08cf8fa8ea2e4a1b925d2a8c71a59c15": {
     "model_module": "@jupyter-widgets/base",
     "model_module_version": "1.2.0",
     "model_name": "LayoutModel",
     "state": {
      "_model_module": "@jupyter-widgets/base",
      "_model_module_version": "1.2.0",
      "_model_name": "LayoutModel",
      "_view_count": null,
      "_view_module": "@jupyter-widgets/base",
      "_view_module_version": "1.2.0",
      "_view_name": "LayoutView",
      "align_content": null,
      "align_items": null,
      "align_self": null,
      "border": null,
      "bottom": null,
      "display": null,
      "flex": null,
      "flex_flow": null,
      "grid_area": null,
      "grid_auto_columns": null,
      "grid_auto_flow": null,
      "grid_auto_rows": null,
      "grid_column": null,
      "grid_gap": null,
      "grid_row": null,
      "grid_template_areas": null,
      "grid_template_columns": null,
      "grid_template_rows": null,
      "height": null,
      "justify_content": null,
      "justify_items": null,
      "left": null,
      "margin": null,
      "max_height": null,
      "max_width": null,
      "min_height": null,
      "min_width": null,
      "object_fit": null,
      "object_position": null,
      "order": null,
      "overflow": null,
      "overflow_x": null,
      "overflow_y": null,
      "padding": null,
      "right": null,
      "top": null,
      "visibility": null,
      "width": null
     }
    },
    "0a2e58e41d3d4c4fa269218f0b037cc2": {
     "model_module": "@jupyter-widgets/controls",
     "model_module_version": "1.5.0",
     "model_name": "HTMLModel",
     "state": {
      "_dom_classes": [],
      "_model_module": "@jupyter-widgets/controls",
      "_model_module_version": "1.5.0",
      "_model_name": "HTMLModel",
      "_view_count": null,
      "_view_module": "@jupyter-widgets/controls",
      "_view_module_version": "1.5.0",
      "_view_name": "HTMLView",
      "description": "",
      "description_tooltip": null,
      "layout": "IPY_MODEL_155bf0cb530c4c199b24a1967e386a63",
      "placeholder": "​",
      "style": "IPY_MODEL_aa0c2c4f321b460e85fa713af9b56482",
      "value": " 5/5 [1:03:52&lt;00:00, 770.59s/it]"
     }
    },
    "0d8a645737b741ad9322f174d81ded3b": {
     "model_module": "@jupyter-widgets/controls",
     "model_module_version": "1.5.0",
     "model_name": "ProgressStyleModel",
     "state": {
      "_model_module": "@jupyter-widgets/controls",
      "_model_module_version": "1.5.0",
      "_model_name": "ProgressStyleModel",
      "_view_count": null,
      "_view_module": "@jupyter-widgets/base",
      "_view_module_version": "1.2.0",
      "_view_name": "StyleView",
      "bar_color": null,
      "description_width": ""
     }
    },
    "130f948a61c144a8ba815030c2c07f73": {
     "model_module": "@jupyter-widgets/controls",
     "model_module_version": "1.5.0",
     "model_name": "HBoxModel",
     "state": {
      "_dom_classes": [],
      "_model_module": "@jupyter-widgets/controls",
      "_model_module_version": "1.5.0",
      "_model_name": "HBoxModel",
      "_view_count": null,
      "_view_module": "@jupyter-widgets/controls",
      "_view_module_version": "1.5.0",
      "_view_name": "HBoxView",
      "box_style": "",
      "children": [
       "IPY_MODEL_bfa896170b004924b62dd19d91199e7a",
       "IPY_MODEL_aba41e21e51c4b97ac064e4dfd88d08b",
       "IPY_MODEL_0a2e58e41d3d4c4fa269218f0b037cc2"
      ],
      "layout": "IPY_MODEL_386df3aa0c49447ab2633b5c671ca393"
     }
    },
    "155bf0cb530c4c199b24a1967e386a63": {
     "model_module": "@jupyter-widgets/base",
     "model_module_version": "1.2.0",
     "model_name": "LayoutModel",
     "state": {
      "_model_module": "@jupyter-widgets/base",
      "_model_module_version": "1.2.0",
      "_model_name": "LayoutModel",
      "_view_count": null,
      "_view_module": "@jupyter-widgets/base",
      "_view_module_version": "1.2.0",
      "_view_name": "LayoutView",
      "align_content": null,
      "align_items": null,
      "align_self": null,
      "border": null,
      "bottom": null,
      "display": null,
      "flex": null,
      "flex_flow": null,
      "grid_area": null,
      "grid_auto_columns": null,
      "grid_auto_flow": null,
      "grid_auto_rows": null,
      "grid_column": null,
      "grid_gap": null,
      "grid_row": null,
      "grid_template_areas": null,
      "grid_template_columns": null,
      "grid_template_rows": null,
      "height": null,
      "justify_content": null,
      "justify_items": null,
      "left": null,
      "margin": null,
      "max_height": null,
      "max_width": null,
      "min_height": null,
      "min_width": null,
      "object_fit": null,
      "object_position": null,
      "order": null,
      "overflow": null,
      "overflow_x": null,
      "overflow_y": null,
      "padding": null,
      "right": null,
      "top": null,
      "visibility": null,
      "width": null
     }
    },
    "2636e45e4e8c4f01bfb652e8000d1e3c": {
     "model_module": "@jupyter-widgets/controls",
     "model_module_version": "1.5.0",
     "model_name": "DescriptionStyleModel",
     "state": {
      "_model_module": "@jupyter-widgets/controls",
      "_model_module_version": "1.5.0",
      "_model_name": "DescriptionStyleModel",
      "_view_count": null,
      "_view_module": "@jupyter-widgets/base",
      "_view_module_version": "1.2.0",
      "_view_name": "StyleView",
      "description_width": ""
     }
    },
    "2afe5dfc441346c19e80f2429b48fddf": {
     "model_module": "@jupyter-widgets/base",
     "model_module_version": "1.2.0",
     "model_name": "LayoutModel",
     "state": {
      "_model_module": "@jupyter-widgets/base",
      "_model_module_version": "1.2.0",
      "_model_name": "LayoutModel",
      "_view_count": null,
      "_view_module": "@jupyter-widgets/base",
      "_view_module_version": "1.2.0",
      "_view_name": "LayoutView",
      "align_content": null,
      "align_items": null,
      "align_self": null,
      "border": null,
      "bottom": null,
      "display": null,
      "flex": null,
      "flex_flow": null,
      "grid_area": null,
      "grid_auto_columns": null,
      "grid_auto_flow": null,
      "grid_auto_rows": null,
      "grid_column": null,
      "grid_gap": null,
      "grid_row": null,
      "grid_template_areas": null,
      "grid_template_columns": null,
      "grid_template_rows": null,
      "height": null,
      "justify_content": null,
      "justify_items": null,
      "left": null,
      "margin": null,
      "max_height": null,
      "max_width": null,
      "min_height": null,
      "min_width": null,
      "object_fit": null,
      "object_position": null,
      "order": null,
      "overflow": null,
      "overflow_x": null,
      "overflow_y": null,
      "padding": null,
      "right": null,
      "top": null,
      "visibility": null,
      "width": null
     }
    },
    "386df3aa0c49447ab2633b5c671ca393": {
     "model_module": "@jupyter-widgets/base",
     "model_module_version": "1.2.0",
     "model_name": "LayoutModel",
     "state": {
      "_model_module": "@jupyter-widgets/base",
      "_model_module_version": "1.2.0",
      "_model_name": "LayoutModel",
      "_view_count": null,
      "_view_module": "@jupyter-widgets/base",
      "_view_module_version": "1.2.0",
      "_view_name": "LayoutView",
      "align_content": null,
      "align_items": null,
      "align_self": null,
      "border": null,
      "bottom": null,
      "display": null,
      "flex": null,
      "flex_flow": null,
      "grid_area": null,
      "grid_auto_columns": null,
      "grid_auto_flow": null,
      "grid_auto_rows": null,
      "grid_column": null,
      "grid_gap": null,
      "grid_row": null,
      "grid_template_areas": null,
      "grid_template_columns": null,
      "grid_template_rows": null,
      "height": null,
      "justify_content": null,
      "justify_items": null,
      "left": null,
      "margin": null,
      "max_height": null,
      "max_width": null,
      "min_height": null,
      "min_width": null,
      "object_fit": null,
      "object_position": null,
      "order": null,
      "overflow": null,
      "overflow_x": null,
      "overflow_y": null,
      "padding": null,
      "right": null,
      "top": null,
      "visibility": null,
      "width": null
     }
    },
    "42220e53623547e68503f7c4fce6e64e": {
     "model_module": "@jupyter-widgets/controls",
     "model_module_version": "1.5.0",
     "model_name": "FloatProgressModel",
     "state": {
      "_dom_classes": [],
      "_model_module": "@jupyter-widgets/controls",
      "_model_module_version": "1.5.0",
      "_model_name": "FloatProgressModel",
      "_view_count": null,
      "_view_module": "@jupyter-widgets/controls",
      "_view_module_version": "1.5.0",
      "_view_name": "ProgressView",
      "bar_style": "danger",
      "description": "",
      "description_tooltip": null,
      "layout": "IPY_MODEL_08cf8fa8ea2e4a1b925d2a8c71a59c15",
      "max": 5,
      "min": 0,
      "orientation": "horizontal",
      "style": "IPY_MODEL_ec3e53000f754d1683673d9a2dd39450",
      "value": 1
     }
    },
    "45190887612342909d4637c73d00914a": {
     "model_module": "@jupyter-widgets/base",
     "model_module_version": "1.2.0",
     "model_name": "LayoutModel",
     "state": {
      "_model_module": "@jupyter-widgets/base",
      "_model_module_version": "1.2.0",
      "_model_name": "LayoutModel",
      "_view_count": null,
      "_view_module": "@jupyter-widgets/base",
      "_view_module_version": "1.2.0",
      "_view_name": "LayoutView",
      "align_content": null,
      "align_items": null,
      "align_self": null,
      "border": null,
      "bottom": null,
      "display": null,
      "flex": null,
      "flex_flow": null,
      "grid_area": null,
      "grid_auto_columns": null,
      "grid_auto_flow": null,
      "grid_auto_rows": null,
      "grid_column": null,
      "grid_gap": null,
      "grid_row": null,
      "grid_template_areas": null,
      "grid_template_columns": null,
      "grid_template_rows": null,
      "height": null,
      "justify_content": null,
      "justify_items": null,
      "left": null,
      "margin": null,
      "max_height": null,
      "max_width": null,
      "min_height": null,
      "min_width": null,
      "object_fit": null,
      "object_position": null,
      "order": null,
      "overflow": null,
      "overflow_x": null,
      "overflow_y": null,
      "padding": null,
      "right": null,
      "top": null,
      "visibility": null,
      "width": null
     }
    },
    "5364ba63095c42c3a0df439293a179ba": {
     "model_module": "@jupyter-widgets/controls",
     "model_module_version": "1.5.0",
     "model_name": "DescriptionStyleModel",
     "state": {
      "_model_module": "@jupyter-widgets/controls",
      "_model_module_version": "1.5.0",
      "_model_name": "DescriptionStyleModel",
      "_view_count": null,
      "_view_module": "@jupyter-widgets/base",
      "_view_module_version": "1.2.0",
      "_view_name": "StyleView",
      "description_width": ""
     }
    },
    "709d92fce0dc4784adfe5fd9f1dcb344": {
     "model_module": "@jupyter-widgets/base",
     "model_module_version": "1.2.0",
     "model_name": "LayoutModel",
     "state": {
      "_model_module": "@jupyter-widgets/base",
      "_model_module_version": "1.2.0",
      "_model_name": "LayoutModel",
      "_view_count": null,
      "_view_module": "@jupyter-widgets/base",
      "_view_module_version": "1.2.0",
      "_view_name": "LayoutView",
      "align_content": null,
      "align_items": null,
      "align_self": null,
      "border": null,
      "bottom": null,
      "display": null,
      "flex": null,
      "flex_flow": null,
      "grid_area": null,
      "grid_auto_columns": null,
      "grid_auto_flow": null,
      "grid_auto_rows": null,
      "grid_column": null,
      "grid_gap": null,
      "grid_row": null,
      "grid_template_areas": null,
      "grid_template_columns": null,
      "grid_template_rows": null,
      "height": null,
      "justify_content": null,
      "justify_items": null,
      "left": null,
      "margin": null,
      "max_height": null,
      "max_width": null,
      "min_height": null,
      "min_width": null,
      "object_fit": null,
      "object_position": null,
      "order": null,
      "overflow": null,
      "overflow_x": null,
      "overflow_y": null,
      "padding": null,
      "right": null,
      "top": null,
      "visibility": null,
      "width": null
     }
    },
    "8cb258d5a2fb4b6ea88c0c7b77509030": {
     "model_module": "@jupyter-widgets/controls",
     "model_module_version": "1.5.0",
     "model_name": "DescriptionStyleModel",
     "state": {
      "_model_module": "@jupyter-widgets/controls",
      "_model_module_version": "1.5.0",
      "_model_name": "DescriptionStyleModel",
      "_view_count": null,
      "_view_module": "@jupyter-widgets/base",
      "_view_module_version": "1.2.0",
      "_view_name": "StyleView",
      "description_width": ""
     }
    },
    "94a0893bbce84f73a794f6690e066d57": {
     "model_module": "@jupyter-widgets/controls",
     "model_module_version": "1.5.0",
     "model_name": "HBoxModel",
     "state": {
      "_dom_classes": [],
      "_model_module": "@jupyter-widgets/controls",
      "_model_module_version": "1.5.0",
      "_model_name": "HBoxModel",
      "_view_count": null,
      "_view_module": "@jupyter-widgets/controls",
      "_view_module_version": "1.5.0",
      "_view_name": "HBoxView",
      "box_style": "",
      "children": [
       "IPY_MODEL_b07b427c002d498492474cc9da82ccd1",
       "IPY_MODEL_42220e53623547e68503f7c4fce6e64e",
       "IPY_MODEL_dfbace783daa46d897bd25406beb6e2c"
      ],
      "layout": "IPY_MODEL_9aad7f063edf4658a5541f7da317974a"
     }
    },
    "988774910ad145caa85c35c07e5398fd": {
     "model_module": "@jupyter-widgets/base",
     "model_module_version": "1.2.0",
     "model_name": "LayoutModel",
     "state": {
      "_model_module": "@jupyter-widgets/base",
      "_model_module_version": "1.2.0",
      "_model_name": "LayoutModel",
      "_view_count": null,
      "_view_module": "@jupyter-widgets/base",
      "_view_module_version": "1.2.0",
      "_view_name": "LayoutView",
      "align_content": null,
      "align_items": null,
      "align_self": null,
      "border": null,
      "bottom": null,
      "display": null,
      "flex": null,
      "flex_flow": null,
      "grid_area": null,
      "grid_auto_columns": null,
      "grid_auto_flow": null,
      "grid_auto_rows": null,
      "grid_column": null,
      "grid_gap": null,
      "grid_row": null,
      "grid_template_areas": null,
      "grid_template_columns": null,
      "grid_template_rows": null,
      "height": null,
      "justify_content": null,
      "justify_items": null,
      "left": null,
      "margin": null,
      "max_height": null,
      "max_width": null,
      "min_height": null,
      "min_width": null,
      "object_fit": null,
      "object_position": null,
      "order": null,
      "overflow": null,
      "overflow_x": null,
      "overflow_y": null,
      "padding": null,
      "right": null,
      "top": null,
      "visibility": null,
      "width": null
     }
    },
    "9aad7f063edf4658a5541f7da317974a": {
     "model_module": "@jupyter-widgets/base",
     "model_module_version": "1.2.0",
     "model_name": "LayoutModel",
     "state": {
      "_model_module": "@jupyter-widgets/base",
      "_model_module_version": "1.2.0",
      "_model_name": "LayoutModel",
      "_view_count": null,
      "_view_module": "@jupyter-widgets/base",
      "_view_module_version": "1.2.0",
      "_view_name": "LayoutView",
      "align_content": null,
      "align_items": null,
      "align_self": null,
      "border": null,
      "bottom": null,
      "display": null,
      "flex": null,
      "flex_flow": null,
      "grid_area": null,
      "grid_auto_columns": null,
      "grid_auto_flow": null,
      "grid_auto_rows": null,
      "grid_column": null,
      "grid_gap": null,
      "grid_row": null,
      "grid_template_areas": null,
      "grid_template_columns": null,
      "grid_template_rows": null,
      "height": null,
      "justify_content": null,
      "justify_items": null,
      "left": null,
      "margin": null,
      "max_height": null,
      "max_width": null,
      "min_height": null,
      "min_width": null,
      "object_fit": null,
      "object_position": null,
      "order": null,
      "overflow": null,
      "overflow_x": null,
      "overflow_y": null,
      "padding": null,
      "right": null,
      "top": null,
      "visibility": null,
      "width": null
     }
    },
    "aa0c2c4f321b460e85fa713af9b56482": {
     "model_module": "@jupyter-widgets/controls",
     "model_module_version": "1.5.0",
     "model_name": "DescriptionStyleModel",
     "state": {
      "_model_module": "@jupyter-widgets/controls",
      "_model_module_version": "1.5.0",
      "_model_name": "DescriptionStyleModel",
      "_view_count": null,
      "_view_module": "@jupyter-widgets/base",
      "_view_module_version": "1.2.0",
      "_view_name": "StyleView",
      "description_width": ""
     }
    },
    "aba41e21e51c4b97ac064e4dfd88d08b": {
     "model_module": "@jupyter-widgets/controls",
     "model_module_version": "1.5.0",
     "model_name": "FloatProgressModel",
     "state": {
      "_dom_classes": [],
      "_model_module": "@jupyter-widgets/controls",
      "_model_module_version": "1.5.0",
      "_model_name": "FloatProgressModel",
      "_view_count": null,
      "_view_module": "@jupyter-widgets/controls",
      "_view_module_version": "1.5.0",
      "_view_name": "ProgressView",
      "bar_style": "success",
      "description": "",
      "description_tooltip": null,
      "layout": "IPY_MODEL_988774910ad145caa85c35c07e5398fd",
      "max": 5,
      "min": 0,
      "orientation": "horizontal",
      "style": "IPY_MODEL_0d8a645737b741ad9322f174d81ded3b",
      "value": 5
     }
    },
    "b07b427c002d498492474cc9da82ccd1": {
     "model_module": "@jupyter-widgets/controls",
     "model_module_version": "1.5.0",
     "model_name": "HTMLModel",
     "state": {
      "_dom_classes": [],
      "_model_module": "@jupyter-widgets/controls",
      "_model_module_version": "1.5.0",
      "_model_name": "HTMLModel",
      "_view_count": null,
      "_view_module": "@jupyter-widgets/controls",
      "_view_module_version": "1.5.0",
      "_view_name": "HTMLView",
      "description": "",
      "description_tooltip": null,
      "layout": "IPY_MODEL_709d92fce0dc4784adfe5fd9f1dcb344",
      "placeholder": "​",
      "style": "IPY_MODEL_5364ba63095c42c3a0df439293a179ba",
      "value": " 20%"
     }
    },
    "bfa896170b004924b62dd19d91199e7a": {
     "model_module": "@jupyter-widgets/controls",
     "model_module_version": "1.5.0",
     "model_name": "HTMLModel",
     "state": {
      "_dom_classes": [],
      "_model_module": "@jupyter-widgets/controls",
      "_model_module_version": "1.5.0",
      "_model_name": "HTMLModel",
      "_view_count": null,
      "_view_module": "@jupyter-widgets/controls",
      "_view_module_version": "1.5.0",
      "_view_name": "HTMLView",
      "description": "",
      "description_tooltip": null,
      "layout": "IPY_MODEL_45190887612342909d4637c73d00914a",
      "placeholder": "​",
      "style": "IPY_MODEL_2636e45e4e8c4f01bfb652e8000d1e3c",
      "value": "100%"
     }
    },
    "dfbace783daa46d897bd25406beb6e2c": {
     "model_module": "@jupyter-widgets/controls",
     "model_module_version": "1.5.0",
     "model_name": "HTMLModel",
     "state": {
      "_dom_classes": [],
      "_model_module": "@jupyter-widgets/controls",
      "_model_module_version": "1.5.0",
      "_model_name": "HTMLModel",
      "_view_count": null,
      "_view_module": "@jupyter-widgets/controls",
      "_view_module_version": "1.5.0",
      "_view_name": "HTMLView",
      "description": "",
      "description_tooltip": null,
      "layout": "IPY_MODEL_2afe5dfc441346c19e80f2429b48fddf",
      "placeholder": "​",
      "style": "IPY_MODEL_8cb258d5a2fb4b6ea88c0c7b77509030",
      "value": " 1/5 [13:24&lt;52:56, 794.03s/it]"
     }
    },
    "ec3e53000f754d1683673d9a2dd39450": {
     "model_module": "@jupyter-widgets/controls",
     "model_module_version": "1.5.0",
     "model_name": "ProgressStyleModel",
     "state": {
      "_model_module": "@jupyter-widgets/controls",
      "_model_module_version": "1.5.0",
      "_model_name": "ProgressStyleModel",
      "_view_count": null,
      "_view_module": "@jupyter-widgets/base",
      "_view_module_version": "1.2.0",
      "_view_name": "StyleView",
      "bar_color": null,
      "description_width": ""
     }
    }
   }
  }
 },
 "nbformat": 4,
 "nbformat_minor": 4
}
