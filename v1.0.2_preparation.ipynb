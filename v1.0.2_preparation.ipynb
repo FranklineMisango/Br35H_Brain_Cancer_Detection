{
  "cells": [
    {
      "cell_type": "markdown",
      "metadata": {
        "colab_type": "text",
        "id": "GXh66ZKmLUA1"
      },
      "source": [
        "# Brain Tumor Detection - Dataset Preparation\n",
        "\n",
        "## Include necessary libraries\n",
        "\n",
        "We'll need the following libraries to prepare our dataset."
      ]
    },
    {
      "cell_type": "code",
      "execution_count": 1,
      "metadata": {
        "colab": {},
        "colab_type": "code",
        "id": "A3XcXuKJDjT0"
      },
      "outputs": [],
      "source": [
        "import os\n",
        "import PIL\n",
        "import zipfile\n",
        "import numpy as np\n",
        "import pandas as pd\n",
        "import matplotlib.pyplot as plt\n",
        "import pickle\n",
        "import h5py\n",
        "import cv2\n",
        "%matplotlib inline"
      ]
    },
    {
      "cell_type": "markdown",
      "metadata": {
        "colab_type": "text",
        "id": "YLifrnvcc7OG"
      },
      "source": [
        "Import Google Drive, where we'll be storing our dataset so we can use them later. (Persistent preparation of Dataset)."
      ]
    },
    {
      "cell_type": "code",
      "execution_count": null,
      "metadata": {
        "colab": {
          "base_uri": "https://localhost:8080/",
          "height": 122
        },
        "colab_type": "code",
        "id": "jH6JT7YRDr-d",
        "outputId": "03762fcf-7912-4311-dcd6-7784f229f81d"
      },
      "outputs": [
        {
          "name": "stdout",
          "output_type": "stream",
          "text": [
            "Go to this URL in a browser: https://accounts.google.com/o/oauth2/auth?client_id=947318989803-6bn6qk8qdgf4n4g3pfee6491hc0brc4i.apps.googleusercontent.com&redirect_uri=urn%3aietf%3awg%3aoauth%3a2.0%3aoob&response_type=code&scope=email%20https%3a%2f%2fwww.googleapis.com%2fauth%2fdocs.test%20https%3a%2f%2fwww.googleapis.com%2fauth%2fdrive%20https%3a%2f%2fwww.googleapis.com%2fauth%2fdrive.photos.readonly%20https%3a%2f%2fwww.googleapis.com%2fauth%2fpeopleapi.readonly\n",
            "\n",
            "Enter your authorization code:\n",
            "··········\n",
            "Mounted at /content/drive\n"
          ]
        }
      ],
      "source": [
        "from google.colab import drive\n",
        "drive.mount('/content/drive')"
      ]
    },
    {
      "cell_type": "markdown",
      "metadata": {
        "colab_type": "text",
        "id": "CjbuxQHPLk4e"
      },
      "source": [
        "## Extract the Dataset"
      ]
    },
    {
      "cell_type": "markdown",
      "metadata": {
        "colab_type": "text",
        "id": "_oS26YfYdLqI"
      },
      "source": [
        "Dataset taken from [this link](https://figshare.com/articles/brain_tumor_dataset/1512427), which consists of brain tumor images belonging to 3 classes of tumor along with other details present in .mat format.\n",
        "\n",
        "Create a folder in Google Drive under Colab Notebooks folder named dataset, where we'll be extracting our main zip file."
      ]
    },
    {
      "cell_type": "code",
      "execution_count": null,
      "metadata": {
        "colab": {},
        "colab_type": "code",
        "id": "raq86BibDuAp"
      },
      "outputs": [],
      "source": [
        "if not os.path.exists('/content/drive/My Drive/Colab Notebooks/dataset'):\n",
        "  os.mkdir('/content/drive/My Drive/Colab Notebooks/dataset')"
      ]
    },
    {
      "cell_type": "markdown",
      "metadata": {
        "colab_type": "text",
        "id": "c18E9qkwdUos"
      },
      "source": [
        "Extract the dataset .zip file"
      ]
    },
    {
      "cell_type": "code",
      "execution_count": null,
      "metadata": {
        "colab": {},
        "colab_type": "code",
        "id": "TyWcKMdTFY9L"
      },
      "outputs": [],
      "source": [
        "with zipfile.ZipFile('/content/drive/My Drive/1512427.zip') as zf:\n",
        "  zip_dir = zf.namelist()[0]\n",
        "  zf.extractall('/content/drive/My Drive/Colab Notebooks/dataset')"
      ]
    },
    {
      "cell_type": "markdown",
      "metadata": {
        "colab_type": "text",
        "id": "2hNITFpzdZnJ"
      },
      "source": [
        "List the extracted files"
      ]
    },
    {
      "cell_type": "code",
      "execution_count": null,
      "metadata": {
        "colab": {
          "base_uri": "https://localhost:8080/",
          "height": 68
        },
        "colab_type": "code",
        "id": "39Id1fqCGVGI",
        "outputId": "cce6fd82-ccf1-43e9-bf46-f06243a3512a"
      },
      "outputs": [
        {
          "name": "stdout",
          "output_type": "stream",
          "text": [
            "brainTumorDataPublic_1533-2298.zip  brainTumorDataPublic_767-1532.zip\n",
            "brainTumorDataPublic_1-766.zip\t    cvind.mat\n",
            "brainTumorDataPublic_2299-3064.zip  README.txt\n"
          ]
        }
      ],
      "source": [
        "!ls '/content/drive/My Drive/Colab Notebooks/dataset/'"
      ]
    },
    {
      "cell_type": "markdown",
      "metadata": {
        "colab_type": "text",
        "id": "OdP3WEIGdcAl"
      },
      "source": [
        "Let's go through the README file for the information about the dataset"
      ]
    },
    {
      "cell_type": "code",
      "execution_count": null,
      "metadata": {
        "colab": {
          "base_uri": "https://localhost:8080/",
          "height": 595
        },
        "colab_type": "code",
        "id": "JosjvwpBG8u2",
        "outputId": "bcf5a0ff-0a3e-484b-9e17-f0bfd606ed41"
      },
      "outputs": [
        {
          "name": "stdout",
          "output_type": "stream",
          "text": [
            "This brain tumor dataset containing 3064 T1-weighted contrast-inhanced images\r\n",
            "from 233 patients with three kinds of brain tumor: meningioma (708 slices), \r\n",
            "glioma (1426 slices), and pituitary tumor (930 slices). Due to the file size\r\n",
            "limit of repository, we split the whole dataset into 4 subsets, and achive \r\n",
            "them in 4 .zip files with each .zip file containing 766 slices.The 5-fold\r\n",
            "cross-validation indices are also provided.\r\n",
            "\r\n",
            "-----\r\n",
            "This data is organized in matlab data format (.mat file). Each file stores a struct\r\n",
            "containing the following fields for an image:\r\n",
            "\r\n",
            "cjdata.label: 1 for meningioma, 2 for glioma, 3 for pituitary tumor\r\n",
            "cjdata.PID: patient ID\r\n",
            "cjdata.image: image data\r\n",
            "cjdata.tumorBorder: a vector storing the coordinates of discrete points on tumor border.\r\n",
            "\t\tFor example, [x1, y1, x2, y2,...] in which x1, y1 are planar coordinates on tumor border.\r\n",
            "\t\tIt was generated by manually delineating the tumor border. So we can use it to generate\r\n",
            "\t\tbinary image of tumor mask.\r\n",
            "cjdata.tumorMask: a binary image with 1s indicating tumor region\r\n",
            "\r\n",
            "-----\r\n",
            "This data was used in the following paper:\r\n",
            "1. Cheng, Jun, et al. \"Enhanced Performance of Brain Tumor Classification via Tumor Region Augmentation\r\n",
            "and Partition.\" PloS one 10.10 (2015).\r\n",
            "2. Cheng, Jun, et al. \"Retrieval of Brain Tumors by Adaptive Spatial Pooling and Fisher Vector \r\n",
            "Representation.\" PloS one 11.6 (2016). Matlab source codes are available on github \r\n",
            "https://github.com/chengjun583/brainTumorRetrieval\r\n",
            "\r\n",
            "-----\r\n",
            "Jun Cheng\r\n",
            "School of Biomedical Engineering\r\n",
            "Southern Medical University, Guangzhou, China\r\n",
            "Email: chengjun583@qq.com\r\n",
            "\r\n"
          ]
        }
      ],
      "source": [
        "!cat '/content/drive/My Drive/Colab Notebooks/dataset/README.txt'"
      ]
    },
    {
      "cell_type": "markdown",
      "metadata": {
        "colab_type": "text",
        "id": "7i2xmtdzdhsZ"
      },
      "source": [
        "Extract all the 4 zip files of brain tumor, consisting .mat files"
      ]
    },
    {
      "cell_type": "code",
      "execution_count": null,
      "metadata": {
        "colab": {},
        "colab_type": "code",
        "id": "9zFst3tAGee7"
      },
      "outputs": [],
      "source": [
        "with zipfile.ZipFile('/content/drive/My Drive/Colab Notebooks/dataset/brainTumorDataPublic_1-766.zip') as zf:\n",
        "  os.mkdir('/content/drive/My Drive/Colab Notebooks/dataset/bt_set1')\n",
        "  zip_dir = zf.namelist()[0]\n",
        "  zf.extractall('/content/drive/My Drive/Colab Notebooks/dataset/bt_set1')"
      ]
    },
    {
      "cell_type": "code",
      "execution_count": null,
      "metadata": {
        "colab": {},
        "colab_type": "code",
        "id": "MTHUf8u9HW_p"
      },
      "outputs": [],
      "source": [
        "with zipfile.ZipFile('/content/drive/My Drive/Colab Notebooks/dataset/brainTumorDataPublic_767-1532.zip') as zf:\n",
        "  os.mkdir('/content/drive/My Drive/Colab Notebooks/dataset/bt_set2')\n",
        "  zip_dir = zf.namelist()[0]\n",
        "  zf.extractall('/content/drive/My Drive/Colab Notebooks/dataset/bt_set2')"
      ]
    },
    {
      "cell_type": "code",
      "execution_count": null,
      "metadata": {
        "colab": {},
        "colab_type": "code",
        "id": "wRrlwqZDHkHk"
      },
      "outputs": [],
      "source": [
        "with zipfile.ZipFile('/content/drive/My Drive/Colab Notebooks/dataset/brainTumorDataPublic_1533-2298.zip') as zf:\n",
        "  os.mkdir('/content/drive/My Drive/Colab Notebooks/dataset/bt_set3')\n",
        "  zip_dir = zf.namelist()[0]\n",
        "  zf.extractall('/content/drive/My Drive/Colab Notebooks/dataset/bt_set3')"
      ]
    },
    {
      "cell_type": "code",
      "execution_count": null,
      "metadata": {
        "colab": {},
        "colab_type": "code",
        "id": "NZ-1TF46IEQM"
      },
      "outputs": [],
      "source": [
        "with zipfile.ZipFile('/content/drive/My Drive/Colab Notebooks/dataset/brainTumorDataPublic_2299-3064.zip') as zf:\n",
        "  os.mkdir('/content/drive/My Drive/Colab Notebooks/dataset/bt_set4')\n",
        "  zip_dir = zf.namelist()[0]\n",
        "  zf.extractall('/content/drive/My Drive/Colab Notebooks/dataset/bt_set4')"
      ]
    },
    {
      "cell_type": "markdown",
      "metadata": {
        "colab_type": "text",
        "id": "QvrMSXPWdrRD"
      },
      "source": [
        "Move the .mat files to a new folder named imageData"
      ]
    },
    {
      "cell_type": "code",
      "execution_count": null,
      "metadata": {
        "colab": {},
        "colab_type": "code",
        "id": "DeaEY6MgITdz"
      },
      "outputs": [],
      "source": [
        "os.mkdir('/content/drive/My Drive/Colab Notebooks/dataset/imageData')"
      ]
    },
    {
      "cell_type": "code",
      "execution_count": null,
      "metadata": {
        "colab": {},
        "colab_type": "code",
        "id": "rIkcEF5CI5AV"
      },
      "outputs": [],
      "source": [
        "!mv /content/drive/'My Drive'/'Colab Notebooks'/dataset/bt_set1/*.mat '/content/drive/My Drive/Colab Notebooks/dataset/imageData/'\n",
        "!mv /content/drive/'My Drive'/'Colab Notebooks'/dataset/bt_set2/*.mat '/content/drive/My Drive/Colab Notebooks/dataset/imageData/'\n",
        "!mv /content/drive/'My Drive'/'Colab Notebooks'/dataset/bt_set3/*.mat '/content/drive/My Drive/Colab Notebooks/dataset/imageData/'\n",
        "!mv /content/drive/'My Drive'/'Colab Notebooks'/dataset/bt_set4/*.mat '/content/drive/My Drive/Colab Notebooks/dataset/imageData/'"
      ]
    },
    {
      "cell_type": "markdown",
      "metadata": {
        "colab_type": "text",
        "id": "Ih-0xfeoagQ_"
      },
      "source": [
        "## Prepare the Dataset"
      ]
    },
    {
      "cell_type": "markdown",
      "metadata": {
        "colab_type": "text",
        "id": "J0860tP8dz6h"
      },
      "source": [
        "Let's look at the things that we have in a single .mat file. Display the images & contents present inside it."
      ]
    },
    {
      "cell_type": "code",
      "execution_count": null,
      "metadata": {
        "colab": {},
        "colab_type": "code",
        "id": "mzE6qQ8RPCPC"
      },
      "outputs": [],
      "source": [
        "arrays = {}\n",
        "img = None"
      ]
    },
    {
      "cell_type": "code",
      "execution_count": null,
      "metadata": {
        "colab": {
          "base_uri": "https://localhost:8080/",
          "height": 785
        },
        "colab_type": "code",
        "id": "jjebDTJlMF_x",
        "outputId": "5ebc712f-9bc8-452f-eda4-9a7acd22b5e3"
      },
      "outputs": [
        {
          "name": "stdout",
          "output_type": "stream",
          "text": [
            "cjdata\n",
            "('cjdata', <HDF5 group \"/cjdata\" (5 members)>)\n",
            "PID <HDF5 dataset \"PID\": shape (6, 1), type \"<u2\">\n",
            "image <HDF5 dataset \"image\": shape (512, 512), type \"<i2\">\n",
            "label <HDF5 dataset \"label\": shape (1, 1), type \"<f8\">\n",
            "tumorBorder <HDF5 dataset \"tumorBorder\": shape (1, 38), type \"<f8\">\n",
            "tumorMask <HDF5 dataset \"tumorMask\": shape (512, 512), type \"|u1\">\n",
            "Image shape:  (512, 512)\n",
            "Label 1.0\n",
            "Coords:  [267.61524501 231.37568058 277.83666062 248.10163339 289.91651543\n",
            " 250.8892922  305.71324864 253.676951   318.72232305 249.9600726\n",
            " 321.50998185 237.88021779 354.96188748 234.16333938 367.97096189\n",
            " 227.65880218 380.9800363  210.93284936 372.61705989 195.13611615\n",
            " 363.32486388 177.48094374 350.31578947 176.55172414 336.37749546\n",
            " 183.98548094 317.79310345 196.06533575 305.71324864 207.21597096\n",
            " 295.49183303 217.43738657 288.98729583 222.08348457 273.19056261\n",
            " 223.94192377 268.54446461 228.58802178]\n",
            "Mask shape:  (512, 512)\n"
          ]
        },
        {
          "data": {
            "image/png": "[encoded data removed]",
            "text/plain": [
              "<Figure size 432x288 with 1 Axes>"
            ]
          },
          "metadata": {
            "tags": []
          },
          "output_type": "display_data"
        },
        {
          "data": {
            "image/png": "[encoded data removed]",
            "text/plain": [
              "<Figure size 432x288 with 1 Axes>"
            ]
          },
          "metadata": {
            "tags": []
          },
          "output_type": "display_data"
        }
      ],
      "source": [
        "with h5py.File('/content/drive/My Drive/Colab Notebooks/dataset/imageData/1.mat', 'r') as f:\n",
        "    for key in f.keys():\n",
        "      print(key)\n",
        "    for item in f.items():\n",
        "      print(item)\n",
        "    for key, val in f['cjdata'].items():\n",
        "      print(key, val)\n",
        "    img = f['cjdata']['image']\n",
        "    label = f['cjdata']['label'][0][0]\n",
        "    tumorBorder = f['cjdata']['tumorBorder'][0]\n",
        "    mask = f['cjdata']['tumorMask']\n",
        "    fig = plt.figure(2)\n",
        "    img = np.array(img, dtype=np.float32)\n",
        "    img = img/127.5 - 1\n",
        "    mask = np.array(mask, dtype=np.float32)\n",
        "    mask = mask/127.5 - 1\n",
        "    plt.axis('off')\n",
        "    plt.imshow(img, cmap='gray')\n",
        "    print(\"Image shape: \", img.shape)\n",
        "    print(\"Label\", label)\n",
        "    print(\"Coords: \", tumorBorder)\n",
        "    print(\"Mask shape: \", mask.shape)\n",
        "    fig = plt.figure(3)\n",
        "    plt.axis('off')\n",
        "    plt.imshow(mask, cmap='gray')"
      ]
    },
    {
      "cell_type": "markdown",
      "metadata": {
        "colab_type": "text",
        "id": "wzAhqm61eApj"
      },
      "source": [
        "A single .mat file consists of:\n",
        "\n",
        "* **PID:** Patient ID for that particular tumor image. This is not a necessary feature.\n",
        "* **image:** Image of the brain tumor\n",
        "* **label:** Label between 1-3 denoting what kind of tumor is present\n",
        "* **tumorBorder:** Coordinates of the tumor present in the image\n",
        "* **tumorMask:** Masked version of the tumor.\n",
        "\n",
        "We'll need the image, label, tumorBorder, tumorMask which are the necessary features that'll help us to detect brain tumors."
      ]
    },
    {
      "cell_type": "markdown",
      "metadata": {
        "colab_type": "text",
        "id": "ewh0lu2Ue1XN"
      },
      "source": [
        "Create new folders named the following:\n",
        "\n",
        "* **new_dataset:** We'll be using this folder to store our images, labels, mask and borders\n",
        "* **bt_images:** We'll store the full brain tumor image in this folder\n",
        "* **bt_mask:** We'll store the mask images of the brain tumor in this folder"
      ]
    },
    {
      "cell_type": "code",
      "execution_count": null,
      "metadata": {
        "colab": {},
        "colab_type": "code",
        "id": "0HaGLuvS5h_m"
      },
      "outputs": [],
      "source": [
        "os.mkdir('/content/drive/My Drive/Colab Notebooks/new_dataset')\n",
        "os.mkdir('/content/drive/My Drive/Colab Notebooks/new_dataset/bt_images') "
      ]
    },
    {
      "cell_type": "markdown",
      "metadata": {
        "colab_type": "text",
        "id": "4VNjICqWfSok"
      },
      "source": [
        "Create empty lists for storing labels\n",
        "\n"
      ]
    },
    {
      "cell_type": "code",
      "execution_count": null,
      "metadata": {
        "colab": {},
        "colab_type": "code",
        "id": "07LqMUXA5BCx"
      },
      "outputs": [],
      "source": [
        "labels = []\n"
      ]
    },
    {
      "cell_type": "markdown",
      "metadata": {
        "colab_type": "text",
        "id": "t_bJP9dOfY6q"
      },
      "source": [
        "Save images of brain tumor, masks and store labels and borders in their respective lists iteratively."
      ]
    },
    {
      "cell_type": "code",
      "execution_count": null,
      "metadata": {
        "colab": {
          "base_uri": "https://localhost:8080/",
          "height": 265
        },
        "colab_type": "code",
        "id": "RYFvHS3Xew7Z",
        "outputId": "192f4640-0b14-45dc-ee35-5db44fe24b7b"
      },
      "outputs": [
        {
          "name": "stdout",
          "output_type": "stream",
          "text": [
            "3064 files successfully saved\n"
          ]
        },
        {
          "data": {
            "image/png": "[encoded data removed]",
            "text/plain": [
              "<Figure size 432x288 with 1 Axes>"
            ]
          },
          "metadata": {
            "tags": []
          },
          "output_type": "display_data"
        }
      ],
      "source": [
        "filename = None\n",
        "\n",
        "for filename in range(1, 3065):\n",
        "  with h5py.File('/content/drive/My Drive/Colab Notebooks/dataset/imageData/{}.mat'.format(filename), 'r') as f:\n",
        "      img = f['cjdata']['image']\n",
        "      label = f['cjdata']['label'][0][0]\n",
        "     \n",
        "     \n",
        "      labels.append(int(label))\n",
        "      \n",
        "      border.append(coord)\n",
        "      img = np.array(img, dtype=np.float32)\n",
        "      \n",
        "      plt.axis('off')\n",
        "      plt.imsave(\"/content/drive/My Drive/Colab Notebooks/new_dataset/bt_images/{}.jpg\".format(filename), img, cmap='gray')\n",
        "      \n",
        "      \n",
        "print(\"{} files successfully saved\".format(filename))"
      ]
    },
    {
      "cell_type": "markdown",
      "metadata": {
        "colab_type": "text",
        "id": "7WQf_HBUfiQP"
      },
      "source": [
        "Convert the Python lists to a Numpy arrays"
      ]
    },
    {
      "cell_type": "code",
      "execution_count": null,
      "metadata": {
        "colab": {},
        "colab_type": "code",
        "id": "zb8znQzg655F"
      },
      "outputs": [],
      "source": [
        "label_names = np.array(labels, dtype=np.int64)\n"
      ]
    },
    {
      "cell_type": "markdown",
      "metadata": {
        "colab_type": "text",
        "id": "fm6Hemi0fnkR"
      },
      "source": [
        "Check if the array has the right shape & length."
      ]
    },
    {
      "cell_type": "code",
      "execution_count": null,
      "metadata": {
        "colab": {
          "base_uri": "https://localhost:8080/",
          "height": 34
        },
        "colab_type": "code",
        "id": "B5LnQrPE7cqs",
        "outputId": "77b56eb5-a946-4c0b-d4ce-1f56a7b5ea74"
      },
      "outputs": [
        {
          "data": {
            "text/plain": [
              "(3064,)"
            ]
          },
          "execution_count": 18,
          "metadata": {
            "tags": []
          },
          "output_type": "execute_result"
        }
      ],
      "source": [
        "label_names.shape"
      ]
    },
    {
      "cell_type": "markdown",
      "metadata": {
        "colab_type": "text",
        "id": "AzBZl4FifsaC"
      },
      "source": [
        "Store the labels and tumor border (coordinates) as a pickle file, which can be loaded whenever we want to use it."
      ]
    },
    {
      "cell_type": "code",
      "execution_count": null,
      "metadata": {
        "colab": {},
        "colab_type": "code",
        "id": "9UbCgJIZ7DSQ"
      },
      "outputs": [],
      "source": [
        "pickle_out = open(\"/content/drive/My Drive/Colab Notebooks/new_dataset/labels.pickle\",\"wb\")                    \n",
        "pickle.dump(label_names, pickle_out)\n",
        "pickle_out.close() "
      ]
    },
    {
      "cell_type": "markdown",
      "metadata": {
        "colab_type": "text",
        "id": "qsKkbR5TdLbl"
      },
      "source": [
        "Create an empty list named 'training_data' in which we'll store our images and their respective labels as arrays"
      ]
    },
    {
      "cell_type": "code",
      "execution_count": null,
      "metadata": {
        "colab": {},
        "colab_type": "code",
        "id": "U8WjocXu9cB9"
      },
      "outputs": [],
      "source": [
        "training_data = []\n",
        "img = None\n",
        "label = None\n",
        "i = None"
      ]
    },
    {
      "cell_type": "markdown",
      "metadata": {
        "colab_type": "text",
        "id": "c3TtXcNpdNVV"
      },
      "source": [
        "Read the images from bt_images folder from Google Drive and convert it to RGB images and store it along with their respective labels in the training_data list."
      ]
    },
    {
      "cell_type": "code",
      "execution_count": null,
      "metadata": {
        "colab": {},
        "colab_type": "code",
        "id": "SICvCO6rdBLQ"
      },
      "outputs": [],
      "source": [
        "for i in range(1, 3065):\n",
        "  img = cv2.imread(\"/content/drive/My Drive/Colab Notebooks/new_dataset/bt_images/{}.jpg\".format(i), cv2.IMREAD_GRAYSCALE)\n",
        "  img = cv2.cvtColor(img, cv2.COLOR_GRAY2RGB)\n",
        "  img = cv2.resize(img, (512, 512))\n",
        "  label = label_names[i-1]\n",
        "  training_data.append([img, label])\n",
        "\n",
        "print(\"shape: {} label: {} | {} samples successfully preprocessed\".format(img.shape, label, i))\n",
        "\n",
        "pickle_out = open(\"/content/drive/My Drive/Colab Notebooks/new_dataset/training_data.pickle\",\"wb\")                    \n",
        "pickle.dump(training_data, pickle_out)\n",
        "pickle_out.close()"
      ]
    },
    {
      "cell_type": "markdown",
      "metadata": {
        "colab_type": "text",
        "id": "P0vHOhwWdR_V"
      },
      "source": [
        "Store the training_data list as a pickle file"
      ]
    }
  ],
  "metadata": {
    "accelerator": "GPU",
    "colab": {
      "collapsed_sections": [],
      "machine_shape": "hm",
      "name": "brain_tumor_dataset_preparation.ipynb",
      "provenance": []
    },
    "kernelspec": {
      "display_name": "Python 3",
      "name": "python3"
    },
    "language_info": {
      "codemirror_mode": {
        "name": "ipython",
        "version": 3
      },
      "file_extension": ".py",
      "mimetype": "text/x-python",
      "name": "python",
      "nbconvert_exporter": "python",
      "pygments_lexer": "ipython3",
      "version": "3.10.6"
    }
  },
  "nbformat": 4,
  "nbformat_minor": 0
}
